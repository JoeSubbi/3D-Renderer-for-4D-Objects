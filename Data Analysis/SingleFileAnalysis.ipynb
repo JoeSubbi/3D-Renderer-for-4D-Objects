{
 "cells": [
  {
   "cell_type": "markdown",
   "metadata": {},
   "source": [
    "# Data Analysis of a JSON output from the Unity Experiment Application\n",
    "\n",
    "Given JSON data, a variety of analytical techniques will be applied in order to interpret the given data"
   ]
  },
  {
   "cell_type": "markdown",
   "metadata": {},
   "source": [
    "### Imports"
   ]
  },
  {
   "cell_type": "code",
   "execution_count": 11,
   "metadata": {},
   "outputs": [],
   "source": [
    "from sympy import symbols\n",
    "from galgebra.ga import Ga\n",
    "from galgebra.printer import Format\n",
    "\n",
    "Format(Fmode = False, Dmode = True)\n",
    "s4coords = (x,y,z,w) = symbols('x y z w', real=True)\n",
    "s4 = Ga('e',\n",
    "g=[1,1,1,1],\n",
    "coords=s4coords)"
   ]
  },
  {
   "cell_type": "markdown",
   "metadata": {},
   "source": [
    "### Equations used in Rotor.py"
   ]
  },
  {
   "cell_type": "code",
   "execution_count": 8,
   "metadata": {},
   "outputs": [
    {
     "data": {
      "text/latex": [
       "\\begin{equation*}  \\begin{aligned}[t]  & \\left ( 2 a^{w} b^{xw} s + 2 a^{w} b^{xy} b^{yw} + 2 a^{w} b^{xz} b^{zw} + 2 a^{w} b^{yz} p^{xyzw} - a^{x} {\\left ( b^{xw} \\right )}^{2} - a^{x} {\\left ( b^{xy} \\right )}^{2} - a^{x} {\\left ( b^{xz} \\right )}^{2} + a^{x} {\\left ( b^{yw} \\right )}^{2} + a^{x} {\\left ( b^{yz} \\right )}^{2} + a^{x} {\\left ( b^{zw} \\right )}^{2} - a^{x} {\\left ( p^{xyzw} \\right )}^{2} + a^{x} s^{2} - 2 a^{y} b^{xw} b^{yw} + 2 a^{y} b^{xy} s - 2 a^{y} b^{xz} b^{yz} + 2 a^{y} b^{zw} p^{xyzw} - 2 a^{z} b^{xw} b^{zw} + 2 a^{z} b^{xy} b^{yz} + 2 a^{z} b^{xz} s - 2 a^{z} b^{yw} p^{xyzw}\\right ) \\boldsymbol{e}_{x} \\\\  &  + \\left ( - 2 a^{w} b^{xw} b^{xy} - 2 a^{w} b^{xz} p^{xyzw} + 2 a^{w} b^{yw} s + 2 a^{w} b^{yz} b^{zw} - 2 a^{x} b^{xw} b^{yw} - 2 a^{x} b^{xy} s - 2 a^{x} b^{xz} b^{yz} - 2 a^{x} b^{zw} p^{xyzw} + a^{y} {\\left ( b^{xw} \\right )}^{2} - a^{y} {\\left ( b^{xy} \\right )}^{2} + a^{y} {\\left ( b^{xz} \\right )}^{2} - a^{y} {\\left ( b^{yw} \\right )}^{2} - a^{y} {\\left ( b^{yz} \\right )}^{2} + a^{y} {\\left ( b^{zw} \\right )}^{2} - a^{y} {\\left ( p^{xyzw} \\right )}^{2} + a^{y} s^{2} + 2 a^{z} b^{xw} p^{xyzw} - 2 a^{z} b^{xy} b^{xz} - 2 a^{z} b^{yw} b^{zw} + 2 a^{z} b^{yz} s\\right ) \\boldsymbol{e}_{y} \\\\  &  + \\left ( - 2 a^{w} b^{xw} b^{xz} + 2 a^{w} b^{xy} p^{xyzw} - 2 a^{w} b^{yw} b^{yz} + 2 a^{w} b^{zw} s - 2 a^{x} b^{xw} b^{zw} + 2 a^{x} b^{xy} b^{yz} - 2 a^{x} b^{xz} s + 2 a^{x} b^{yw} p^{xyzw} - 2 a^{y} b^{xw} p^{xyzw} - 2 a^{y} b^{xy} b^{xz} - 2 a^{y} b^{yw} b^{zw} - 2 a^{y} b^{yz} s + a^{z} {\\left ( b^{xw} \\right )}^{2} + a^{z} {\\left ( b^{xy} \\right )}^{2} - a^{z} {\\left ( b^{xz} \\right )}^{2} + a^{z} {\\left ( b^{yw} \\right )}^{2} - a^{z} {\\left ( b^{yz} \\right )}^{2} - a^{z} {\\left ( b^{zw} \\right )}^{2} - a^{z} {\\left ( p^{xyzw} \\right )}^{2} + a^{z} s^{2}\\right ) \\boldsymbol{e}_{z} \\\\  &  + \\left ( - a^{w} {\\left ( b^{xw} \\right )}^{2} + a^{w} {\\left ( b^{xy} \\right )}^{2} + a^{w} {\\left ( b^{xz} \\right )}^{2} - a^{w} {\\left ( b^{yw} \\right )}^{2} + a^{w} {\\left ( b^{yz} \\right )}^{2} - a^{w} {\\left ( b^{zw} \\right )}^{2} - a^{w} {\\left ( p^{xyzw} \\right )}^{2} + a^{w} s^{2} - 2 a^{x} b^{xw} s + 2 a^{x} b^{xy} b^{yw} + 2 a^{x} b^{xz} b^{zw} - 2 a^{x} b^{yz} p^{xyzw} - 2 a^{y} b^{xw} b^{xy} + 2 a^{y} b^{xz} p^{xyzw} - 2 a^{y} b^{yw} s + 2 a^{y} b^{yz} b^{zw} - 2 a^{z} b^{xw} b^{xz} - 2 a^{z} b^{xy} p^{xyzw} - 2 a^{z} b^{yw} b^{yz} - 2 a^{z} b^{zw} s\\right ) \\boldsymbol{e}_{w}  \\end{aligned}  \\end{equation*}"
      ],
      "text/plain": [
       " (2*a__w*b__xw*s + 2*a__w*b__xy*b__yw + 2*a__w*b__xz*b__zw + 2*a__w*b__yz*p__xyzw - a__x*b__xw**2 - a__x*b__xy**2 - a__x*b__xz**2 + a__x*b__yw**2 + a__x*b__yz**2 + a__x*b__zw**2 - a__x*p__xyzw**2 + a__x*s**2 - 2*a__y*b__xw*b__yw + 2*a__y*b__xy*s - 2*a__y*b__xz*b__yz + 2*a__y*b__zw*p__xyzw - 2*a__z*b__xw*b__zw + 2*a__z*b__xy*b__yz + 2*a__z*b__xz*s - 2*a__z*b__yw*p__xyzw)*e_x\n",
       " + (-2*a__w*b__xw*b__xy - 2*a__w*b__xz*p__xyzw + 2*a__w*b__yw*s + 2*a__w*b__yz*b__zw - 2*a__x*b__xw*b__yw - 2*a__x*b__xy*s - 2*a__x*b__xz*b__yz - 2*a__x*b__zw*p__xyzw + a__y*b__xw**2 - a__y*b__xy**2 + a__y*b__xz**2 - a__y*b__yw**2 - a__y*b__yz**2 + a__y*b__zw**2 - a__y*p__xyzw**2 + a__y*s**2 + 2*a__z*b__xw*p__xyzw - 2*a__z*b__xy*b__xz - 2*a__z*b__yw*b__zw + 2*a__z*b__yz*s)*e_y\n",
       " + (-2*a__w*b__xw*b__xz + 2*a__w*b__xy*p__xyzw - 2*a__w*b__yw*b__yz + 2*a__w*b__zw*s - 2*a__x*b__xw*b__zw + 2*a__x*b__xy*b__yz - 2*a__x*b__xz*s + 2*a__x*b__yw*p__xyzw - 2*a__y*b__xw*p__xyzw - 2*a__y*b__xy*b__xz - 2*a__y*b__yw*b__zw - 2*a__y*b__yz*s + a__z*b__xw**2 + a__z*b__xy**2 - a__z*b__xz**2 + a__z*b__yw**2 - a__z*b__yz**2 - a__z*b__zw**2 - a__z*p__xyzw**2 + a__z*s**2)*e_z\n",
       " + (-a__w*b__xw**2 + a__w*b__xy**2 + a__w*b__xz**2 - a__w*b__yw**2 + a__w*b__yz**2 - a__w*b__zw**2 - a__w*p__xyzw**2 + a__w*s**2 - 2*a__x*b__xw*s + 2*a__x*b__xy*b__yw + 2*a__x*b__xz*b__zw - 2*a__x*b__yz*p__xyzw - 2*a__y*b__xw*b__xy + 2*a__y*b__xz*p__xyzw - 2*a__y*b__yw*s + 2*a__y*b__yz*b__zw - 2*a__z*b__xw*b__xz - 2*a__z*b__xy*p__xyzw - 2*a__z*b__yw*b__yz - 2*a__z*b__zw*s)*e_w"
      ]
     },
     "execution_count": 8,
     "metadata": {},
     "output_type": "execute_result"
    }
   ],
   "source": [
    "# Rotation of a vector using a Rotor\n",
    "\n",
    "# Vector\n",
    "a = s4.mv('a','vector')\n",
    "\n",
    "# Rotor\n",
    "b = s4.mv('b','bivector')\n",
    "s = s4.mv('s', 'scalar')\n",
    "p = s4.mv('p', 'pseudo')\n",
    "rotor = b + s + p\n",
    "\n",
    "(rotor * a * rotor.rev()).Fmt(3)"
   ]
  },
  {
   "cell_type": "code",
   "execution_count": 9,
   "metadata": {},
   "outputs": [
    {
     "data": {
      "text/latex": [
       "\\begin{equation*}  \\begin{aligned}[t]  & \\left ( - a^{xw}_{b} b^{xw}_{b} - a^{xy}_{b} b^{xy}_{b} - a^{xz}_{b} b^{xz}_{b} - a^{yw}_{b} b^{yw}_{b} - a^{yz}_{b} b^{yz}_{b} - a^{zw}_{b} b^{zw}_{b} + a^{xyzw}_{p} b^{xyzw}_{p} + a_{s} b_{s}\\right )  \\\\  &  + \\left ( - a^{xw}_{b} b^{yw}_{b} + a^{xy}_{b} b_{s} - a^{xz}_{b} b^{yz}_{b} + a^{yw}_{b} b^{xw}_{b} + a^{yz}_{b} b^{xz}_{b} - a^{zw}_{b} b^{xyzw}_{p} - a^{xyzw}_{p} b^{zw}_{b} + a_{s} b^{xy}_{b}\\right ) \\boldsymbol{e}_{x}\\wedge \\boldsymbol{e}_{y} \\\\  &  + \\left ( - a^{xw}_{b} b^{zw}_{b} + a^{xy}_{b} b^{yz}_{b} + a^{xz}_{b} b_{s} + a^{yw}_{b} b^{xyzw}_{p} - a^{yz}_{b} b^{xy}_{b} + a^{zw}_{b} b^{xw}_{b} + a^{xyzw}_{p} b^{yw}_{b} + a_{s} b^{xz}_{b}\\right ) \\boldsymbol{e}_{x}\\wedge \\boldsymbol{e}_{z} \\\\  &  + \\left ( a^{xw}_{b} b_{s} + a^{xy}_{b} b^{yw}_{b} + a^{xz}_{b} b^{zw}_{b} - a^{yw}_{b} b^{xy}_{b} - a^{yz}_{b} b^{xyzw}_{p} - a^{zw}_{b} b^{xz}_{b} - a^{xyzw}_{p} b^{yz}_{b} + a_{s} b^{xw}_{b}\\right ) \\boldsymbol{e}_{x}\\wedge \\boldsymbol{e}_{w} \\\\  &  + \\left ( - a^{xw}_{b} b^{xyzw}_{p} - a^{xy}_{b} b^{xz}_{b} + a^{xz}_{b} b^{xy}_{b} - a^{yw}_{b} b^{zw}_{b} + a^{yz}_{b} b_{s} + a^{zw}_{b} b^{yw}_{b} - a^{xyzw}_{p} b^{xw}_{b} + a_{s} b^{yz}_{b}\\right ) \\boldsymbol{e}_{y}\\wedge \\boldsymbol{e}_{z} \\\\  &  + \\left ( a^{xw}_{b} b^{xy}_{b} - a^{xy}_{b} b^{xw}_{b} + a^{xz}_{b} b^{xyzw}_{p} + a^{yw}_{b} b_{s} + a^{yz}_{b} b^{zw}_{b} - a^{zw}_{b} b^{yz}_{b} + a^{xyzw}_{p} b^{xz}_{b} + a_{s} b^{yw}_{b}\\right ) \\boldsymbol{e}_{y}\\wedge \\boldsymbol{e}_{w} \\\\  &  + \\left ( a^{xw}_{b} b^{xz}_{b} - a^{xy}_{b} b^{xyzw}_{p} - a^{xz}_{b} b^{xw}_{b} + a^{yw}_{b} b^{yz}_{b} - a^{yz}_{b} b^{yw}_{b} + a^{zw}_{b} b_{s} - a^{xyzw}_{p} b^{xy}_{b} + a_{s} b^{zw}_{b}\\right ) \\boldsymbol{e}_{z}\\wedge \\boldsymbol{e}_{w} \\\\  &  + \\left ( a^{xw}_{b} b^{yz}_{b} + a^{xy}_{b} b^{zw}_{b} - a^{xz}_{b} b^{yw}_{b} - a^{yw}_{b} b^{xz}_{b} + a^{yz}_{b} b^{xw}_{b} + a^{zw}_{b} b^{xy}_{b} + a^{xyzw}_{p} b_{s} + a_{s} b^{xyzw}_{p}\\right ) \\boldsymbol{e}_{x}\\wedge \\boldsymbol{e}_{y}\\wedge \\boldsymbol{e}_{z}\\wedge \\boldsymbol{e}_{w}  \\end{aligned}  \\end{equation*}"
      ],
      "text/plain": [
       " -a_b__xw*b_b__xw - a_b__xy*b_b__xy - a_b__xz*b_b__xz - a_b__yw*b_b__yw - a_b__yz*b_b__yz - a_b__zw*b_b__zw + a_p__xyzw*b_p__xyzw + a_s*b_s\n",
       " + (-a_b__xw*b_b__yw + a_b__xy*b_s - a_b__xz*b_b__yz + a_b__yw*b_b__xw + a_b__yz*b_b__xz - a_b__zw*b_p__xyzw - a_p__xyzw*b_b__zw + a_s*b_b__xy)*e_x^e_y\n",
       " + (-a_b__xw*b_b__zw + a_b__xy*b_b__yz + a_b__xz*b_s + a_b__yw*b_p__xyzw - a_b__yz*b_b__xy + a_b__zw*b_b__xw + a_p__xyzw*b_b__yw + a_s*b_b__xz)*e_x^e_z\n",
       " + (a_b__xw*b_s + a_b__xy*b_b__yw + a_b__xz*b_b__zw - a_b__yw*b_b__xy - a_b__yz*b_p__xyzw - a_b__zw*b_b__xz - a_p__xyzw*b_b__yz + a_s*b_b__xw)*e_x^e_w\n",
       " + (-a_b__xw*b_p__xyzw - a_b__xy*b_b__xz + a_b__xz*b_b__xy - a_b__yw*b_b__zw + a_b__yz*b_s + a_b__zw*b_b__yw - a_p__xyzw*b_b__xw + a_s*b_b__yz)*e_y^e_z\n",
       " + (a_b__xw*b_b__xy - a_b__xy*b_b__xw + a_b__xz*b_p__xyzw + a_b__yw*b_s + a_b__yz*b_b__zw - a_b__zw*b_b__yz + a_p__xyzw*b_b__xz + a_s*b_b__yw)*e_y^e_w\n",
       " + (a_b__xw*b_b__xz - a_b__xy*b_p__xyzw - a_b__xz*b_b__xw + a_b__yw*b_b__yz - a_b__yz*b_b__yw + a_b__zw*b_s - a_p__xyzw*b_b__xy + a_s*b_b__zw)*e_z^e_w\n",
       " + (a_b__xw*b_b__yz + a_b__xy*b_b__zw - a_b__xz*b_b__yw - a_b__yw*b_b__xz + a_b__yz*b_b__xw + a_b__zw*b_b__xy + a_p__xyzw*b_s + a_s*b_p__xyzw)*e_x^e_y^e_z^e_w"
      ]
     },
     "execution_count": 9,
     "metadata": {},
     "output_type": "execute_result"
    }
   ],
   "source": [
    "# \"Adding\" 2 rotors by Multiplying 2 Rotors\n",
    "\n",
    "a_b = s4.mv('a_b','bivector')\n",
    "a_s = s4.mv('a_s', 'scalar')\n",
    "a_p = s4.mv('a_p', 'pseudo')\n",
    "rotor_a = a_b + a_s + a_p\n",
    "\n",
    "b_b = s4.mv('b_b','bivector')\n",
    "b_s = s4.mv('b_s', 'scalar')\n",
    "b_p = s4.mv('b_p', 'pseudo')\n",
    "rotor_b = b_b + b_s + b_p\n",
    "\n",
    "(rotor_a * rotor_b).Fmt(3)"
   ]
  },
  {
   "cell_type": "markdown",
   "metadata": {},
   "source": [
    "## Get JSON Data"
   ]
  },
  {
   "cell_type": "code",
   "execution_count": 6,
   "metadata": {},
   "outputs": [
    {
     "name": "stdout",
     "output_type": "stream",
     "text": [
      "Reading \"10.json\"\n",
      "Read json data into [data]\n"
     ]
    }
   ],
   "source": [
    "import Rotor\n",
    "import json\n",
    "\n",
    "user = 10\n",
    "filename = str(user) + \".json\"\n",
    "data = \"\"\n",
    "\n",
    "print(\"Reading \\\"\" + filename + \"\\\"\")\n",
    "\n",
    "try:\n",
    "    with open(filename, \"r\") as f:\n",
    "        data = json.load(f)\n",
    "    print(\"Read json data into [data]\")\n",
    "except Exception as e:\n",
    "    print(e)\n"
   ]
  },
  {
   "cell_type": "markdown",
   "metadata": {},
   "source": [
    "### Analysis of Shape Matching"
   ]
  },
  {
   "cell_type": "code",
   "execution_count": 11,
   "metadata": {},
   "outputs": [
    {
     "name": "stdout",
     "output_type": "stream",
     "text": [
      "{\n",
      "    \"Shape_Match0\": {\n",
      "        \"Loaded Shape\": \"ConeY\",\n",
      "        \"Selected Shape\": \"Cone\",\n",
      "        \"Texture\": 0,\n",
      "        \"Time\": 3.410400390625\n",
      "    },\n",
      "    \"Shape_Match0_Survey\": {\n",
      "        \"confidance\": \"10\",\n",
      "        \"behaviour\": \"Yes\"\n",
      "    },\n",
      "    \"Shape_Match1\": {\n",
      "        \"Loaded Shape\": \"ConeW\",\n",
      "        \"Selected Shape\": \"None\",\n",
      "        \"Texture\": 0,\n",
      "        \"Time\": 4.53076171875\n",
      "    },\n",
      "    \"Shape_Match1_Survey\": {\n",
      "        \"confidance\": \"5\",\n",
      "        \"behaviour\": \"Yes\"\n",
      "    },\n",
      "    \"Shape_Match2\": {\n",
      "        \"Loaded Shape\": \"Sphere\",\n",
      "        \"Selected Shape\": \"Sphere\",\n",
      "        \"Texture\": 0,\n",
      "        \"Time\": 6.488037109375\n",
      "    },\n",
      "    \"Shape_Match2_Survey\": {\n",
      "        \"confidance\": \"10\",\n",
      "        \"behaviour\": \"Yes\"\n",
      "    },\n",
      "    \"Shape_Match3\": {\n",
      "        \"Loaded Shape\": \"CapsuleX\",\n",
      "        \"Selected Shape\": \"Cone\",\n",
      "        \"Texture\": 0,\n",
      "        \"Time\": 15.460693359375\n",
      "    },\n",
      "    \"Shape_Match3_Survey\": {\n",
      "        \"confidance\": \"10\",\n",
      "        \"behaviour\": \"Yes\"\n",
      "    },\n",
      "    \"Shape_Match4\": {\n",
      "        \"Loaded Shape\": \"Box\",\n",
      "        \"Selected Shape\": \"Box\",\n",
      "        \"Texture\": 0,\n",
      "        \"Time\": 5.1875\n",
      "    },\n",
      "    \"Shape_Match4_Survey\": {\n",
      "        \"confidance\": \"9\",\n",
      "        \"behaviour\": \"Yes\"\n",
      "    }\n",
      "}\n"
     ]
    }
   ],
   "source": [
    "print(json.dumps(data[\"Control\"][\"Shape_Match\"], indent=4))"
   ]
  },
  {
   "cell_type": "markdown",
   "metadata": {},
   "source": [
    "### Analysis of Rotation Matching"
   ]
  },
  {
   "cell_type": "code",
   "execution_count": null,
   "metadata": {},
   "outputs": [],
   "source": []
  },
  {
   "cell_type": "markdown",
   "metadata": {},
   "source": [
    "### Analysis of Pose Matching"
   ]
  },
  {
   "cell_type": "code",
   "execution_count": null,
   "metadata": {},
   "outputs": [],
   "source": []
  }
 ],
 "metadata": {
  "interpreter": {
   "hash": "31f2aee4e71d21fbe5cf8b01ff0e069b9275f58929596ceb00d14d90e3e16cd6"
  },
  "kernelspec": {
   "display_name": "Python 3.8.10 64-bit",
   "language": "python",
   "name": "python3"
  },
  "language_info": {
   "codemirror_mode": {
    "name": "ipython",
    "version": 3
   },
   "file_extension": ".py",
   "mimetype": "text/x-python",
   "name": "python",
   "nbconvert_exporter": "python",
   "pygments_lexer": "ipython3",
   "version": "3.8.10"
  },
  "orig_nbformat": 4
 },
 "nbformat": 4,
 "nbformat_minor": 2
}
