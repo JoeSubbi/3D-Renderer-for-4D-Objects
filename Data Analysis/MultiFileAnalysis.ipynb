{
 "cells": [
  {
   "cell_type": "markdown",
   "metadata": {},
   "source": [
    "# Data Analysis Over Multiple JSON Data Files from the Unity Experiment Application\n",
    "\n",
    "Given several JSON files containing experiment data, apply a variety of analytical techniques to summarise and interpret the data\n",
    "\n",
    "## Imports and Setup"
   ]
  },
  {
   "cell_type": "code",
   "execution_count": 1,
   "metadata": {},
   "outputs": [],
   "source": [
    "import Rotor\n",
    "import json\n",
    "import math\n",
    "import numpy as np\n",
    "import copy\n",
    "import matplotlib.pyplot as plt"
   ]
  },
  {
   "cell_type": "markdown",
   "metadata": {},
   "source": [
    "## Compile JSON Data into single Dictionaries"
   ]
  },
  {
   "cell_type": "code",
   "execution_count": 2,
   "metadata": {},
   "outputs": [
    {
     "name": "stdout",
     "output_type": "stream",
     "text": [
      "Reading \"data/1-29-01-2022-13-30.json\"\n",
      "Reading \"data/2-30-01-2022-13-00.json\"\n",
      "Reading \"data/3-30-01-2022-19-00.json\"\n",
      "Reading \"data/4-31-01-2022-16-00.json\"\n",
      "Reading \"data/5-05-02-2022-17-00.json\"\n",
      "Compiled Data in compiled_data.json and ordered_data.json\n"
     ]
    }
   ],
   "source": [
    "# List of data files\n",
    "data_files = [\n",
    "    \"1-29-01-2022-13-30.json\",\n",
    "    \"2-30-01-2022-13-00.json\",\n",
    "    \"3-30-01-2022-19-00.json\",\n",
    "    \"4-31-01-2022-16-00.json\",\n",
    "    \"5-05-02-2022-17-00.json\"\n",
    "]\n",
    "\n",
    "directory_prefix = \"data/\" # \"../raw\"\n",
    "\n",
    "# Temp test dictionary to be copied\n",
    "temp = {\n",
    "    \"Shape Match\":{\n",
    "        \"Loaded Shape\":[],\n",
    "        \"Selected Shape\":[],\n",
    "        \"Time Taken\":[],\n",
    "        \"Time Remaining\":[],\n",
    "        \"W Count\":[],\n",
    "        \"Swipe Count\":[],\n",
    "        \"Initial Rotor\":[],\n",
    "        \"Final Rotor\":[],\n",
    "        \"Confidence\":[],\n",
    "        \"Understanding\":[],\n",
    "    },\n",
    "    \"Rotation Match\":{\n",
    "        \"Loaded Shape\":[],\n",
    "        \"Texture\":[],\n",
    "        \"Time Taken\":[],\n",
    "        \"Time Remaining\":[],\n",
    "        \"Loaded Rotation\":[],\n",
    "        \"Selected Rotation\":[],\n",
    "        \"Confidence\":[],\n",
    "        \"Understanding\":[],\n",
    "    },\n",
    "    \"Pose Match\":{\n",
    "        \"Loaded Shape\":[],\n",
    "        \"Texture\":[],\n",
    "        \"Time Taken\":[],\n",
    "        \"Time Remaining\":[],\n",
    "        \"W Count\":[],\n",
    "        \"Swipe Count\":[],\n",
    "        \"Main Rotor\":[],\n",
    "        \"Match Rotor\":[],\n",
    "        \"Initial Match Rotor\":[],\n",
    "        \"Ease\":[],\n",
    "    }\n",
    "}\n",
    "\n",
    "# Unordered dictionary grouped by representation\n",
    "compiled_data = {\n",
    "    \"Control\": copy.deepcopy(temp),\n",
    "    \"Timeline\": copy.deepcopy(temp),\n",
    "    \"4D-3D\": copy.deepcopy(temp),\n",
    "    \"Multi-View\": copy.deepcopy(temp),\n",
    "}\n",
    "\n",
    "# Ordered dictionary grouped by user use over time\n",
    "ordered_data = {\n",
    "    0: copy.deepcopy(temp),\n",
    "    1: copy.deepcopy(temp),\n",
    "    2: copy.deepcopy(temp),\n",
    "    3: copy.deepcopy(temp),\n",
    "}\n",
    "ordered_data[0][\"Representations\"] = []\n",
    "ordered_data[1][\"Representations\"] = []\n",
    "ordered_data[2][\"Representations\"] = []\n",
    "ordered_data[3][\"Representations\"] = []\n",
    "\n",
    "# Iterate through listed files and add them to \n",
    "# the compiled data and order based data\n",
    "for file in data_files:\n",
    "    # Get file name\n",
    "    filename = directory_prefix+file\n",
    "    print(\"Reading \\\"\" + filename + \"\\\"\")\n",
    "\n",
    "    # Try open file\n",
    "    # Skip on fail\n",
    "    try:\n",
    "        with open(filename, \"r\") as f:\n",
    "            data = json.load(f)\n",
    "    except Exception as e:\n",
    "        print(e)\n",
    "        continue\n",
    "\n",
    "\n",
    "    o = -1\n",
    "\n",
    "    # Iterate through the files data\n",
    "    # Copy the data to the single data structure\n",
    "    for rep, tests in data.items():\n",
    "\n",
    "        # iterate through the number of tests for shape match and pose match\n",
    "        for i in range(5):\n",
    "\n",
    "            # Copy Shape Match Data\n",
    "            compiled_data[rep][\"Shape Match\"][\"Loaded Shape\"].append( tests[\"Shape_Match\"][\"Shape_Match{0}\".format(i)][\"Loaded Shape\"] )\n",
    "            compiled_data[rep][\"Shape Match\"][\"Selected Shape\"].append( tests[\"Shape_Match\"][\"Shape_Match{0}\".format(i)][\"Selected Shape\"] )\n",
    "\n",
    "            compiled_data[rep][\"Shape Match\"][\"Time Taken\"].append( tests[\"Shape_Match\"][\"Shape_Match{0}\".format(i)][\"Time\"] )\n",
    "            compiled_data[rep][\"Shape Match\"][\"Time Remaining\"].append( 20 - tests[\"Shape_Match\"][\"Shape_Match{0}\".format(i)][\"Time\"] )\n",
    "\n",
    "            compiled_data[rep][\"Shape Match\"][\"W Count\"].append( tests[\"Shape_Match\"][\"Shape_Match{0}\".format(i)][\"W Count\"] )\n",
    "            compiled_data[rep][\"Shape Match\"][\"Swipe Count\"].append( tests[\"Shape_Match\"][\"Shape_Match{0}\".format(i)][\"Swipe Count\"] )\n",
    "\n",
    "            compiled_data[rep][\"Shape Match\"][\"Initial Rotor\"].append( tests[\"Shape_Match\"][\"Shape_Match{0}\".format(i)][\"Initial Rotation\"] )\n",
    "            compiled_data[rep][\"Shape Match\"][\"Final Rotor\"].append( tests[\"Shape_Match\"][\"Shape_Match{0}\".format(i)][\"Final Rotation\"] )\n",
    "\n",
    "            compiled_data[rep][\"Shape Match\"][\"Confidence\"].append( tests[\"Shape_Match\"][\"Shape_Match{0}_Survey\".format(i)][\"confidance\"] )\n",
    "            compiled_data[rep][\"Shape Match\"][\"Understanding\"].append( tests[\"Shape_Match\"][\"Shape_Match{0}_Survey\".format(i)][\"behaviour\"] )\n",
    "\n",
    "            # Copy Rotation Match Data\n",
    "            compiled_data[rep][\"Rotation Match\"][\"Loaded Shape\"].append( tests[\"Rotation_Match\"][\"Rotation_Match{0}\".format(i)][\"Shape\"] )\n",
    "            compiled_data[rep][\"Rotation Match\"][\"Texture\"].append( tests[\"Rotation_Match\"][\"Rotation_Match{0}\".format(i)][\"Texture\"] )\n",
    "\n",
    "            compiled_data[rep][\"Rotation Match\"][\"Time Taken\"].append( tests[\"Rotation_Match\"][\"Rotation_Match{0}\".format(i)][\"Time\"] )\n",
    "            compiled_data[rep][\"Rotation Match\"][\"Time Remaining\"].append( 60 - tests[\"Rotation_Match\"][\"Rotation_Match{0}\".format(i)][\"Time\"] )\n",
    "\n",
    "            compiled_data[rep][\"Rotation Match\"][\"Loaded Rotation\"].append( tests[\"Rotation_Match\"][\"Rotation_Match{0}\".format(i)][\"Loaded Rotation\"] )\n",
    "            compiled_data[rep][\"Rotation Match\"][\"Selected Rotation\"].append( tests[\"Rotation_Match\"][\"Rotation_Match{0}\".format(i)][\"Selected Rotation\"] )\n",
    "            \n",
    "            compiled_data[rep][\"Rotation Match\"][\"Confidence\"].append( tests[\"Rotation_Match\"][\"Rotation_Match{0}_Survey\".format(i)][\"confidance\"] )\n",
    "            compiled_data[rep][\"Rotation Match\"][\"Understanding\"].append( tests[\"Rotation_Match\"][\"Rotation_Match{0}_Survey\".format(i)][\"behaviour\"] )\n",
    "        \n",
    "        # iterate through the number of tests for pose matching\n",
    "        for i in range(3):\n",
    "            \n",
    "            # Copy Pose Match Data\n",
    "            compiled_data[rep][\"Pose Match\"][\"Loaded Shape\"].append( tests[\"Pose_Match\"][\"Pose_Match{0}\".format(i)][\"Shape\"] )\n",
    "            compiled_data[rep][\"Pose Match\"][\"Texture\"].append( tests[\"Pose_Match\"][\"Pose_Match{0}\".format(i)][\"Texture\"] )\n",
    "            \n",
    "            compiled_data[rep][\"Pose Match\"][\"Time Taken\"].append( tests[\"Pose_Match\"][\"Pose_Match{0}\".format(i)][\"Time\"] )\n",
    "            compiled_data[rep][\"Pose Match\"][\"Time Remaining\"].append( 180 - tests[\"Pose_Match\"][\"Pose_Match{0}\".format(i)][\"Time\"] )\n",
    "            \n",
    "            compiled_data[rep][\"Pose Match\"][\"W Count\"].append( tests[\"Pose_Match\"][\"Pose_Match{0}\".format(i)][\"W Count\"] )\n",
    "            compiled_data[rep][\"Pose Match\"][\"Swipe Count\"].append( tests[\"Pose_Match\"][\"Pose_Match{0}\".format(i)][\"Swipe Count\"] )\n",
    "            \n",
    "            compiled_data[rep][\"Pose Match\"][\"Main Rotor\"].append( tests[\"Pose_Match\"][\"Pose_Match{0}\".format(i)][\"Main Rotor\"] )\n",
    "            compiled_data[rep][\"Pose Match\"][\"Match Rotor\"].append( tests[\"Pose_Match\"][\"Pose_Match{0}\".format(i)][\"Match Rotor\"] )\n",
    "            compiled_data[rep][\"Pose Match\"][\"Initial Match Rotor\"].append( tests[\"Pose_Match\"][\"Pose_Match{0}\".format(i)][\"Initial Match Rotor\"] )\n",
    "\n",
    "            compiled_data[rep][\"Pose Match\"][\"Ease\"].append( tests[\"Pose_Match\"][\"Pose_Match{0}_Survey\".format(i)][\"confidance\"] )\n",
    "    \n",
    "    # Iterate through the files data\n",
    "    # Copy the data to the single order based data structure\n",
    "\n",
    "        # List the representations to match file order\n",
    "        o += 1\n",
    "        ordered_data[o][\"Representations\"].append(rep)\n",
    "\n",
    "        # iterate through the number of tests for shape match and pose match\n",
    "        for i in range(5):\n",
    "            \n",
    "            # Copy Shape Match Data\n",
    "            ordered_data[o][\"Shape Match\"][\"Loaded Shape\"].append( tests[\"Shape_Match\"][\"Shape_Match{0}\".format(i)][\"Loaded Shape\"] )\n",
    "            ordered_data[o][\"Shape Match\"][\"Selected Shape\"].append( tests[\"Shape_Match\"][\"Shape_Match{0}\".format(i)][\"Selected Shape\"] )\n",
    "\n",
    "            ordered_data[o][\"Shape Match\"][\"Time Taken\"].append( tests[\"Shape_Match\"][\"Shape_Match{0}\".format(i)][\"Time\"] )\n",
    "            ordered_data[o][\"Shape Match\"][\"Time Remaining\"].append( 20 - tests[\"Shape_Match\"][\"Shape_Match{0}\".format(i)][\"Time\"] )\n",
    "\n",
    "            ordered_data[o][\"Shape Match\"][\"W Count\"].append( tests[\"Shape_Match\"][\"Shape_Match{0}\".format(i)][\"W Count\"] )\n",
    "            ordered_data[o][\"Shape Match\"][\"Swipe Count\"].append( tests[\"Shape_Match\"][\"Shape_Match{0}\".format(i)][\"Swipe Count\"] )\n",
    "\n",
    "            ordered_data[o][\"Shape Match\"][\"Initial Rotor\"].append( tests[\"Shape_Match\"][\"Shape_Match{0}\".format(i)][\"Initial Rotation\"] )\n",
    "            ordered_data[o][\"Shape Match\"][\"Final Rotor\"].append( tests[\"Shape_Match\"][\"Shape_Match{0}\".format(i)][\"Final Rotation\"] )\n",
    "\n",
    "            ordered_data[o][\"Shape Match\"][\"Confidence\"].append( tests[\"Shape_Match\"][\"Shape_Match{0}_Survey\".format(i)][\"confidance\"] )\n",
    "            ordered_data[o][\"Shape Match\"][\"Understanding\"].append( tests[\"Shape_Match\"][\"Shape_Match{0}_Survey\".format(i)][\"behaviour\"] )\n",
    "\n",
    "            # Copy Rotation Match Data\n",
    "            ordered_data[o][\"Rotation Match\"][\"Loaded Shape\"].append( tests[\"Rotation_Match\"][\"Rotation_Match{0}\".format(i)][\"Shape\"] )\n",
    "            ordered_data[o][\"Rotation Match\"][\"Texture\"].append( tests[\"Rotation_Match\"][\"Rotation_Match{0}\".format(i)][\"Texture\"] )\n",
    "\n",
    "            ordered_data[o][\"Rotation Match\"][\"Time Taken\"].append( tests[\"Rotation_Match\"][\"Rotation_Match{0}\".format(i)][\"Time\"] )\n",
    "            ordered_data[o][\"Rotation Match\"][\"Time Remaining\"].append( 60 - tests[\"Rotation_Match\"][\"Rotation_Match{0}\".format(i)][\"Time\"] )\n",
    "\n",
    "            ordered_data[o][\"Rotation Match\"][\"Loaded Rotation\"].append( tests[\"Rotation_Match\"][\"Rotation_Match{0}\".format(i)][\"Loaded Rotation\"] )\n",
    "            ordered_data[o][\"Rotation Match\"][\"Selected Rotation\"].append( tests[\"Rotation_Match\"][\"Rotation_Match{0}\".format(i)][\"Selected Rotation\"] )\n",
    "            \n",
    "            ordered_data[o][\"Rotation Match\"][\"Confidence\"].append( tests[\"Rotation_Match\"][\"Rotation_Match{0}_Survey\".format(i)][\"confidance\"] )\n",
    "            ordered_data[o][\"Rotation Match\"][\"Understanding\"].append( tests[\"Rotation_Match\"][\"Rotation_Match{0}_Survey\".format(i)][\"behaviour\"] )\n",
    "        \n",
    "        # iterate through the number of tests for pose matching\n",
    "        for i in range(3):\n",
    "            \n",
    "            # Copy Pose Match Data\n",
    "            ordered_data[o][\"Pose Match\"][\"Loaded Shape\"].append( tests[\"Pose_Match\"][\"Pose_Match{0}\".format(i)][\"Shape\"] )\n",
    "            ordered_data[o][\"Pose Match\"][\"Texture\"].append( tests[\"Pose_Match\"][\"Pose_Match{0}\".format(i)][\"Texture\"] )\n",
    "            \n",
    "            ordered_data[o][\"Pose Match\"][\"Time Taken\"].append( tests[\"Pose_Match\"][\"Pose_Match{0}\".format(i)][\"Time\"] )\n",
    "            ordered_data[o][\"Pose Match\"][\"Time Remaining\"].append( 180 - tests[\"Pose_Match\"][\"Pose_Match{0}\".format(i)][\"Time\"] )\n",
    "            \n",
    "            ordered_data[o][\"Pose Match\"][\"W Count\"].append( tests[\"Pose_Match\"][\"Pose_Match{0}\".format(i)][\"W Count\"] )\n",
    "            ordered_data[o][\"Pose Match\"][\"Swipe Count\"].append( tests[\"Pose_Match\"][\"Pose_Match{0}\".format(i)][\"Swipe Count\"] )\n",
    "            \n",
    "            ordered_data[o][\"Pose Match\"][\"Main Rotor\"].append( tests[\"Pose_Match\"][\"Pose_Match{0}\".format(i)][\"Main Rotor\"] )\n",
    "            ordered_data[o][\"Pose Match\"][\"Match Rotor\"].append( tests[\"Pose_Match\"][\"Pose_Match{0}\".format(i)][\"Match Rotor\"] )\n",
    "            ordered_data[o][\"Pose Match\"][\"Initial Match Rotor\"].append( tests[\"Pose_Match\"][\"Pose_Match{0}\".format(i)][\"Initial Match Rotor\"] )\n",
    "\n",
    "            ordered_data[o][\"Pose Match\"][\"Ease\"].append( tests[\"Pose_Match\"][\"Pose_Match{0}_Survey\".format(i)][\"confidance\"] )\n",
    "\n",
    "\n",
    "print(\"Compiled Data in compiled_data.json and ordered_data.json\")\n",
    "\n",
    "# Write out data\n",
    "with open(\"compiled_data.json\", \"w\") as f:\n",
    "    f.write(json.dumps(compiled_data, indent=4))\n",
    "\n",
    "with open(\"ordered_data.json\", \"w\") as f:\n",
    "    f.write(json.dumps(ordered_data, indent=4))\n"
   ]
  },
  {
   "cell_type": "markdown",
   "metadata": {},
   "source": [
    "## Data Analysis Functions \n",
    "Generic Helper Functions"
   ]
  },
  {
   "cell_type": "code",
   "execution_count": 3,
   "metadata": {},
   "outputs": [],
   "source": [
    "# Generic Helper Functions\n",
    "\n",
    "# Convert Radians to Degrees\n",
    "# Rotors have double coverage\n",
    "def rad_deg(x):\n",
    "    return (x/(2*math.pi) ) *360\n",
    "\n",
    "# Convert a list of the 8 components into a Rotor\n",
    "def rotor_from_list(r):\n",
    "    rotor = Rotor.Rotor4()\n",
    "    rotor.constructor(r[0], r[1], r[2], r[3], r[4], r[5], r[6], r[7])\n",
    "    return rotor\n",
    "\n",
    "# Jaccard Index - similarity between 2 boolean arrays\n",
    "def jaccard_index(a, b):\n",
    "    intersection = np.logical_and(a, b)\n",
    "    union = np.logical_or(a, b)\n",
    "    return np.sum(intersection) / np.sum(union)"
   ]
  },
  {
   "cell_type": "markdown",
   "metadata": {},
   "source": [
    "### Shape Matching\n",
    "The number of correct and incorrect answered questions as well as the number of non-answers"
   ]
  },
  {
   "cell_type": "code",
   "execution_count": 4,
   "metadata": {},
   "outputs": [],
   "source": [
    "# Correctness Count\n",
    "# Count the number of correct answers\n",
    "def SHAPE_correct_count(data):\n",
    "    count = {}\n",
    "\n",
    "    # iterate through each key\n",
    "    for key, value in data.items():\n",
    "        count[key] = 0\n",
    "\n",
    "        # iterate through all the shapes and \n",
    "        # if they match, increment the correct selection count\n",
    "        for i in range(len(value[\"Shape Match\"][\"Loaded Shape\"])):\n",
    "            if value[\"Shape Match\"][\"Selected Shape\"][i] in \\\n",
    "               value[\"Shape Match\"][\"Loaded Shape\"][i]:\n",
    "                count[key] += 1\n",
    "    \n",
    "    return count\n",
    "\n",
    "# Count the number of incorrect answers, excluding non-answers\n",
    "def SHAPE_incorrect_count(data):\n",
    "    count = {}\n",
    "\n",
    "    # iterate through each key\n",
    "    for key, value in data.items():\n",
    "        count[key] = 0\n",
    "\n",
    "        # iterate through all the shapes and \n",
    "        # if they do not match, increment the counter\n",
    "        # do not include non-answers\n",
    "        for i in range(len(value[\"Shape Match\"][\"Loaded Shape\"])):\n",
    "            if value[\"Shape Match\"][\"Selected Shape\"][i] not in \\\n",
    "               value[\"Shape Match\"][\"Loaded Shape\"][i] and \\\n",
    "               value[\"Shape Match\"][\"Selected Shape\"][i] != \"None\":\n",
    "                count[key] += 1\n",
    "    \n",
    "    return count\n",
    "\n",
    "# Count the number of non-answers\n",
    "def SHAPE_unanswered_count(data):\n",
    "    count = {}\n",
    "\n",
    "    # iterate through each key\n",
    "    for key, value in data.items():\n",
    "        count[key] = 0\n",
    "\n",
    "        # iterate through all the shapes and \n",
    "        # if the user did not answer, increment the counter\n",
    "        for i in range(len(value[\"Shape Match\"][\"Loaded Shape\"])):\n",
    "            if value[\"Shape Match\"][\"Selected Shape\"][i] == \"None\":\n",
    "                count[key] += 1\n",
    "    \n",
    "    return count"
   ]
  },
  {
   "cell_type": "markdown",
   "metadata": {},
   "source": [
    "The average time taken for every shape match test, correct answers and incorrect answers (not including unanswered tests)"
   ]
  },
  {
   "cell_type": "code",
   "execution_count": 5,
   "metadata": {},
   "outputs": [],
   "source": [
    "# Time Taken\n",
    "# Data for the amount of time for every test, \n",
    "# separated by rep or order depending on data\n",
    "def SHAPE_time_data(data):\n",
    "    times = {}\n",
    "\n",
    "    # iterate through each key\n",
    "    for key, value in data.items():\n",
    "        times[key] = []\n",
    "        \n",
    "        # iterate through all the times and \n",
    "        # if the user did not answer, increment the counter\n",
    "        for i in range(len(value[\"Shape Match\"][\"Time Taken\"])):\n",
    "            times[key].append(value[\"Shape Match\"][\"Time Taken\"][i])\n",
    "\n",
    "    return times\n",
    "\n",
    "# The average amount of time taken \n",
    "# separated by rep or order depending on data\n",
    "def SHAPE_mean_time(data):\n",
    "    average_time = {}\n",
    "    d = SHAPE_time_data(data)\n",
    "\n",
    "    for key, value in d.items():\n",
    "        average_time[key] = np.mean(value)\n",
    "    return average_time\n",
    "\n",
    "# The average amount of time taken for correct answers\n",
    "def SHAPE_mean_time_correct(data):\n",
    "    times = {}\n",
    "    average = {}\n",
    "\n",
    "    # iterate through each key\n",
    "    for key, value in data.items():\n",
    "        times[key] = []\n",
    "        \n",
    "        # iterate through all the times and \n",
    "        # if the user did not answer, increment the counter\n",
    "        for i in range(len(value[\"Shape Match\"][\"Time Taken\"])):\n",
    "            if value[\"Shape Match\"][\"Selected Shape\"][i] in \\\n",
    "               value[\"Shape Match\"][\"Loaded Shape\"][i]:\n",
    "                times[key].append(value[\"Shape Match\"][\"Time Taken\"][i])\n",
    "        \n",
    "        average[key] = np.mean(times[key])\n",
    "\n",
    "    return average\n",
    "\n",
    "# The average amount of time taken for incorrect answers\n",
    "# excluding unanswered unanswered\n",
    "def SHAPE_mean_time_incorrect(data):\n",
    "    times = {}\n",
    "    average = {}\n",
    "\n",
    "    # iterate through each key\n",
    "    for key, value in data.items():\n",
    "        times[key] = []\n",
    "        \n",
    "        # iterate through all the times and \n",
    "        # if the user did not answer, increment the counter\n",
    "        for i in range(len(value[\"Shape Match\"][\"Time Taken\"])):\n",
    "            if value[\"Shape Match\"][\"Selected Shape\"][i] not in \\\n",
    "               value[\"Shape Match\"][\"Loaded Shape\"][i] and \\\n",
    "               value[\"Shape Match\"][\"Selected Shape\"][i] != \"None\":\n",
    "                times[key].append(value[\"Shape Match\"][\"Time Taken\"][i])\n",
    "        \n",
    "        average[key] = np.mean(times[key])\n",
    "\n",
    "    return average"
   ]
  },
  {
   "cell_type": "markdown",
   "metadata": {},
   "source": [
    "The users interaction with the W axis slider and rotating the object"
   ]
  },
  {
   "cell_type": "code",
   "execution_count": 6,
   "metadata": {},
   "outputs": [],
   "source": [
    "# User Interaction\n",
    "# Count number of \n",
    "def SHAPE_w_count(data):\n",
    "    count = {}\n",
    "\n",
    "    # iterate through each key\n",
    "    for key, value in data.items():\n",
    "        # iterate through all the shapes and count up the uses of w\n",
    "        count[key] = np.sum( value[\"Shape Match\"][\"W Count\"] )\n",
    "    return count\n",
    "\n",
    "# Swipe Count\n",
    "def SHAPE_swipe_count(data):\n",
    "    count = {}\n",
    "\n",
    "    # iterate through each key\n",
    "    for key, value in data.items():\n",
    "        # iterate through all the shapes and count up the uses of w\n",
    "        count[key] = np.sum( value[\"Shape Match\"][\"Swipe Count\"] )\n",
    "    return count"
   ]
  },
  {
   "cell_type": "markdown",
   "metadata": {},
   "source": [
    "Output the above data"
   ]
  },
  {
   "cell_type": "code",
   "execution_count": 7,
   "metadata": {},
   "outputs": [
    {
     "name": "stdout",
     "output_type": "stream",
     "text": [
      "Data per Representation:\n",
      "Number of correct answers:                      {'Control': 18, 'Timeline': 11, '4D-3D': 16, 'Multi-View': 17}\n",
      "Number of incorrect answers:                    {'Control': 4, 'Timeline': 8, '4D-3D': 5, 'Multi-View': 6}\n",
      "Number of unanswered:                           {'Control': 3, 'Timeline': 6, '4D-3D': 4, 'Multi-View': 2}\n",
      "Mean time to answer:              {'Control': 15.44029876708985, 'Timeline': 17.245665588378913, '4D-3D': 18.160015258789066, 'Multi-View': 16.04009765625}\n",
      "Mean time for correct answers:    {'Control': 15.54337120056153, 'Timeline': 16.23758628151634, '4D-3D': 17.452232360839844, 'Multi-View': 14.162985409007353}\n",
      "Mean time for incorrect answers:  {'Control': 11.538653373718276, 'Timeline': 17.438512802124023, '4D-3D': 18.94078979492188, 'Multi-View': 20.036356608072918}\n",
      "Number of interactions with the W axis slider:  {'Control': 24, 'Timeline': 32, '4D-3D': 54, 'Multi-View': 18}\n",
      "Number of times the object was rotated:         {'Control': 206, 'Timeline': 209, '4D-3D': 119, 'Multi-View': 220}\n",
      "\n",
      "Data based on Order:\n",
      "Number of correct answers:                      {'0': 12, '1': 15, '2': 17, '3': 18}\n",
      "Number of incorrect answers:                    {'0': 5, '1': 6, '2': 7, '3': 5}\n",
      "Number of unanswered:                           {'0': 8, '1': 4, '2': 1, '3': 2}\n",
      "Mean time to answer:              {'0': 16.536726684570326, '1': 18.74568359375, '2': 16.3305517578125, '3': 15.273115234375}\n",
      "Mean time for correct answers:    {'0': 15.349555651346854, '1': 18.598494466145834, '2': 15.105030732996324, '3': 14.35794406467014}\n",
      "Mean time for incorrect answers:  {'0': 15.235076141357439, '1': 18.27001953125, '2': 18.782505580357142, '3': 16.662353515625}\n",
      "Number of interactions with the W axis slider:  {'0': 33, '1': 42, '2': 29, '3': 24}\n",
      "Number of times the object was rotated:         {'0': 158, '1': 169, '2': 157, '3': 270}\n"
     ]
    }
   ],
   "source": [
    "# Output Data\n",
    "def SHAPE_output(data):\n",
    "    print(\"Number of correct answers:                     \", SHAPE_correct_count(data))\n",
    "    print(\"Number of incorrect answers:                   \", SHAPE_incorrect_count(data))\n",
    "    print(\"Number of unanswered:                          \", SHAPE_unanswered_count(data))\n",
    "    #print(SHAPE_time_data_per_key(data))\n",
    "    print(\"Mean time to answer:             \", SHAPE_mean_time(data))\n",
    "    print(\"Mean time for correct answers:   \", SHAPE_mean_time_correct(data))\n",
    "    print(\"Mean time for incorrect answers: \", SHAPE_mean_time_incorrect(data))\n",
    "    print(\"Number of interactions with the W axis slider: \", SHAPE_w_count(data))\n",
    "    print(\"Number of times the object was rotated:        \", SHAPE_swipe_count(data))\n",
    "\n",
    "# Read in data\n",
    "\n",
    "print(\"Data per Representation:\")\n",
    "with open(\"compiled_data.json\", \"r\") as f:\n",
    "    data = json.load(f)\n",
    "    SHAPE_output(data)\n",
    "\n",
    "print(\"\\nData based on Order:\")\n",
    "with open(\"ordered_data.json\", \"r\") as f:\n",
    "    data = json.load(f)\n",
    "    SHAPE_output(data)\n",
    "\n"
   ]
  },
  {
   "cell_type": "markdown",
   "metadata": {},
   "source": [
    "Graphing Functions"
   ]
  },
  {
   "cell_type": "code",
   "execution_count": 8,
   "metadata": {},
   "outputs": [],
   "source": [
    "# Graphing"
   ]
  },
  {
   "cell_type": "markdown",
   "metadata": {},
   "source": [
    "Display Data per Representation"
   ]
  },
  {
   "cell_type": "code",
   "execution_count": 9,
   "metadata": {},
   "outputs": [],
   "source": [
    "# Load in the data\n",
    "with open(\"compiled_data.json\", \"r\") as f:\n",
    "    compiled_data = json.load(f)\n",
    "\n",
    "with open(\"ordered_data.json\", \"r\") as f:\n",
    "    ordered_data = json.load(f)\n",
    "\n",
    "order = [1,2,3,4]"
   ]
  },
  {
   "cell_type": "code",
   "execution_count": 10,
   "metadata": {},
   "outputs": [
    {
     "data": {
      "text/plain": [
       "Text(0.5, 0, 'Iteration of Test')"
      ]
     },
     "execution_count": 10,
     "metadata": {},
     "output_type": "execute_result"
    },
    {
     "data": {
      "image/png": "[encoded data removed]",
      "text/plain": [
       "<Figure size 864x1296 with 4 Axes>"
      ]
     },
     "metadata": {
      "needs_background": "light"
     },
     "output_type": "display_data"
    }
   ],
   "source": [
    "# Show Graphs\n",
    "fig = plt.figure(figsize = (12, 18))\n",
    "ax0 = fig.add_subplot(321)\n",
    "ax1 = fig.add_subplot(322)\n",
    "ax2 = fig.add_subplot(323)\n",
    "ax3 = fig.add_subplot(324)\n",
    "#ax4 = fig.add_subplot(325)\n",
    "fig.subplots_adjust(hspace=0.3)\n",
    "\n",
    "ax0.set_title(\"Shape Matching:\\nNumber of correct answers per representation\")\n",
    "d = SHAPE_correct_count(compiled_data)\n",
    "x = d.keys()\n",
    "y = d.values()\n",
    "ax0.bar(x, y)\n",
    "ax0.set_ylim((0, 26))\n",
    "ax0.set_ylabel(\"Quantity\")\n",
    "ax0.set_xlabel(\"Representation\")\n",
    "\n",
    "ax1.set_title(\"Shape Matching:\\nNumber of correct answers based on the iteration of representation\")\n",
    "d = SHAPE_correct_count(ordered_data)\n",
    "x = d.keys()\n",
    "y = d.values()\n",
    "ax1.bar(x, y)\n",
    "ax1.set_ylim((0, 26))\n",
    "ax1.set_ylabel(\"Quantity\")\n",
    "ax1.set_xlabel(\"Iteration of Test\")\n",
    "\n",
    "ax2.set_title(\"Shape Matching:\\nTime taken to answer per representation\")\n",
    "x = SHAPE_time_data(compiled_data).keys()\n",
    "d = [i for i in SHAPE_time_data(compiled_data).values()]\n",
    "ax2.boxplot( d, showmeans=True )\n",
    "ax2.set_xticks(order, x)\n",
    "ax2.set_ylim((0, 21))\n",
    "ax2.set_ylabel(\"Time Taken / Seconds\")\n",
    "ax2.set_xlabel(\"Representation\")\n",
    "\n",
    "ax3.set_title(\"Shape Matching:\\nTime taken to answer based on the iteration of representation\")\n",
    "x = SHAPE_time_data(ordered_data).keys()\n",
    "d = [i for i in SHAPE_time_data(ordered_data).values()]\n",
    "ax3.boxplot( d, showmeans=True )\n",
    "ax3.set_xticks(order, x)\n",
    "ax3.set_ylim((0, 21))\n",
    "ax3.set_ylabel(\"Time Taken / Seconds\")\n",
    "ax3.set_xlabel(\"Iteration of Test\")"
   ]
  },
  {
   "cell_type": "markdown",
   "metadata": {},
   "source": [
    "### Rotation Matching\n",
    "The correctness and complexity of rotations"
   ]
  },
  {
   "cell_type": "code",
   "execution_count": 11,
   "metadata": {},
   "outputs": [],
   "source": [
    "def ROTATE_jaccard_data(data):\n",
    "    indices = {}\n",
    "\n",
    "    # iterate through each key\n",
    "    for key, value in data.items():\n",
    "        indices[key] = []\n",
    "        \n",
    "        # iterate through all the tests and find the similarity between\n",
    "        # boolean arrays of loaded and selected rotations\n",
    "        for i in range(len(value[\"Rotation Match\"][\"Loaded Rotation\"])):\n",
    "            indices[key].append(\n",
    "                jaccard_index(\n",
    "                value[\"Rotation Match\"][\"Loaded Rotation\"][i],\n",
    "                value[\"Rotation Match\"][\"Selected Rotation\"][i]\n",
    "                )\n",
    "            )\n",
    "\n",
    "    return indices\n",
    "\n",
    "def ROTATE_mean_jaccard(data):\n",
    "    i = ROTATE_jaccard_data(data)\n",
    "    for key, value in i.items():\n",
    "        i[key] = np.mean(value)\n",
    "    return i\n",
    "    \n",
    "\n",
    "def ROTATE_totally_correct_count(data):\n",
    "    count = {}\n",
    "\n",
    "    # iterate through each key\n",
    "    for key, value in data.items():\n",
    "        count[key] = 0\n",
    "        \n",
    "        # iterate through all the tests and find the similarity between\n",
    "        # boolean arrays of loaded and selected rotations\n",
    "        for i in range(len(value[\"Rotation Match\"][\"Loaded Rotation\"])):\n",
    "            if value[\"Rotation Match\"][\"Loaded Rotation\"][i] == \\\n",
    "               value[\"Rotation Match\"][\"Selected Rotation\"][i]:\n",
    "                count[key] += 1\n",
    "\n",
    "    return count\n",
    "\n",
    "def ROTATE_no_of_rotations_data(data):\n",
    "    count = {}\n",
    "\n",
    "    # iterate through each key\n",
    "    for key, value in data.items():\n",
    "        count[key] = []\n",
    "        \n",
    "        # iterate through all the tests and append the sum of the number of rotations\n",
    "        for i in range(len(value[\"Rotation Match\"][\"Loaded Rotation\"])):\n",
    "            count[key].append( np.sum(value[\"Rotation Match\"][\"Loaded Rotation\"][i]) )\n",
    "\n",
    "    return count"
   ]
  },
  {
   "cell_type": "markdown",
   "metadata": {},
   "source": [
    "The average time taken for every rotation match test"
   ]
  },
  {
   "cell_type": "code",
   "execution_count": 12,
   "metadata": {},
   "outputs": [],
   "source": [
    "# Data for the amount of time for every test, \n",
    "# separated by rep or order depending on data\n",
    "def ROTATE_time_data(data):\n",
    "    times = {}\n",
    "\n",
    "    # iterate through each key\n",
    "    for key, value in data.items():\n",
    "        times[key] = []\n",
    "        \n",
    "        # iterate through all the times and \n",
    "        # if the user did not answer, increment the counter\n",
    "        for i in range(len(value[\"Rotation Match\"][\"Time Taken\"])):\n",
    "            times[key].append(value[\"Rotation Match\"][\"Time Taken\"][i])\n",
    "\n",
    "    return times\n",
    "\n",
    "# The average amount of time taken \n",
    "# separated by rep or order depending on data\n",
    "def ROTATE_mean_time_data(data):\n",
    "    average_time = {}\n",
    "    d = ROTATE_time_data(data)\n",
    "\n",
    "    for key, value in d.items():\n",
    "        average_time[key] = np.mean(value)\n",
    "    return average_time\n",
    "\n",
    "    "
   ]
  },
  {
   "cell_type": "markdown",
   "metadata": {},
   "source": [
    "Output the above data"
   ]
  },
  {
   "cell_type": "code",
   "execution_count": 13,
   "metadata": {},
   "outputs": [
    {
     "name": "stdout",
     "output_type": "stream",
     "text": [
      "Data per Representation:\n",
      "The mean similarity of rotations:                      {'Control': 0.29333333333333333, 'Timeline': 0.44, '4D-3D': 0.35666666666666663, 'Multi-View': 0.406}\n",
      "The number of totally correct answers:                 {'Control': 2, 'Timeline': 10, '4D-3D': 6, 'Multi-View': 4}\n",
      "The mean time to answer:                               {'Control': 36.63287719726563, 'Timeline': 44.980301513671876, '4D-3D': 36.71018432617188, 'Multi-View': 37.111328125}\n",
      "\n",
      "Data based on Order:\n",
      "The mean similarity of rotations:                      {'0': 0.3666666666666667, '1': 0.46, '2': 0.35, '3': 0.31933333333333336}\n",
      "The number of totally correct answers:                 {'0': 5, '1': 8, '2': 5, '3': 4}\n",
      "The mean time to answer:                               {'0': 47.62491088867188, '1': 39.16109375, '2': 35.6775146484375, '3': 32.971171875}\n"
     ]
    }
   ],
   "source": [
    "# Output Data\n",
    "def ROTATE_output(data):\n",
    "    #print(\"The similarity between loaded and selected rotations: \", ROTATE_jaccard_data(data))\n",
    "    print(\"The mean similarity of rotations:                     \", ROTATE_mean_jaccard(data))\n",
    "    print(\"The number of totally correct answers:                \", ROTATE_totally_correct_count(data))\n",
    "    #print(\"The number of rotations per test: \", ROTATE_no_of_rotations_data(data))\n",
    "    #print(ROTATE_time_data(data))\n",
    "    print(\"The mean time to answer:                              \", ROTATE_mean_time_data(data))\n",
    "\n",
    "# Read in data\n",
    "\n",
    "print(\"Data per Representation:\")\n",
    "with open(\"compiled_data.json\", \"r\") as f:\n",
    "    data = json.load(f)\n",
    "    ROTATE_output(data)\n",
    "\n",
    "print(\"\\nData based on Order:\")\n",
    "with open(\"ordered_data.json\", \"r\") as f:\n",
    "    data = json.load(f)\n",
    "    ROTATE_output(data)\n"
   ]
  },
  {
   "cell_type": "markdown",
   "metadata": {},
   "source": [
    "Graphing Functions"
   ]
  },
  {
   "cell_type": "code",
   "execution_count": 14,
   "metadata": {},
   "outputs": [],
   "source": [
    "# Graphing"
   ]
  },
  {
   "cell_type": "markdown",
   "metadata": {},
   "source": [
    "Display Data"
   ]
  },
  {
   "cell_type": "code",
   "execution_count": 15,
   "metadata": {},
   "outputs": [],
   "source": [
    "# Load in the data\n",
    "with open(\"compiled_data.json\", \"r\") as f:\n",
    "    compiled_data = json.load(f)\n",
    "\n",
    "with open(\"ordered_data.json\", \"r\") as f:\n",
    "    ordered_data = json.load(f)\n",
    "\n",
    "order = [1,2,3,4]"
   ]
  },
  {
   "cell_type": "code",
   "execution_count": 16,
   "metadata": {},
   "outputs": [
    {
     "data": {
      "text/plain": [
       "Text(0.5, 0, 'Iteration of Test')"
      ]
     },
     "execution_count": 16,
     "metadata": {},
     "output_type": "execute_result"
    },
    {
     "data": {
      "image/png": "[encoded data removed]",
      "text/plain": [
       "<Figure size 864x1728 with 6 Axes>"
      ]
     },
     "metadata": {
      "needs_background": "light"
     },
     "output_type": "display_data"
    }
   ],
   "source": [
    "# Show Graphs\n",
    "fig = plt.figure(figsize = (12, 24))\n",
    "ax0 = fig.add_subplot(421)\n",
    "ax1 = fig.add_subplot(422)\n",
    "ax2 = fig.add_subplot(423)\n",
    "ax3 = fig.add_subplot(424)\n",
    "ax4 = fig.add_subplot(425)\n",
    "ax5 = fig.add_subplot(426)\n",
    "fig.subplots_adjust(hspace=0.3)\n",
    "\n",
    "ax0.set_title(\"Rotation Matching:\\nNumber of totally correct answers\")\n",
    "d = ROTATE_totally_correct_count(compiled_data)\n",
    "x = d.keys()\n",
    "y = d.values()\n",
    "ax0.bar(x, y)\n",
    "ax0.set_ylim((0, 26))\n",
    "ax0.set_ylabel(\"Quantity\")\n",
    "ax0.set_xlabel(\"Representation\")\n",
    "\n",
    "ax1.set_title(\"Rotation Matching:\\nNumber of totally correct answers\")\n",
    "d = ROTATE_totally_correct_count(ordered_data)\n",
    "x = d.keys()\n",
    "y = d.values()\n",
    "ax1.bar(x, y)\n",
    "ax1.set_ylim((0, 26))\n",
    "ax1.set_ylabel(\"Quantity\")\n",
    "ax1.set_xlabel(\"Iteration of Test\")\n",
    "\n",
    "ax2.set_title(\"Rotation Matching:\\n Similarity between loaded and selected rotations\")\n",
    "x = ROTATE_jaccard_data(compiled_data).keys()\n",
    "d = [i for i in ROTATE_jaccard_data(compiled_data).values()]\n",
    "ax2.boxplot( d, showmeans=True )\n",
    "ax2.set_xticks(order, x)\n",
    "ax2.set_ylim((0, 1.1))\n",
    "ax2.set_ylabel(\"Jaccard Index\")\n",
    "ax2.set_xlabel(\"Representation\")\n",
    "\n",
    "ax3.set_title(\"Rotation Matching:\\n Similarity between loaded and selected rotations\")\n",
    "x = ROTATE_jaccard_data(ordered_data).keys()\n",
    "d = [i for i in ROTATE_jaccard_data(ordered_data).values()]\n",
    "ax3.boxplot( d, showmeans=True )\n",
    "ax3.set_xticks(order, x)\n",
    "ax3.set_ylim((0, 1.1))\n",
    "ax3.set_ylabel(\"Jaccard Index\")\n",
    "ax3.set_xlabel(\"Iteration of Test\")\n",
    "\n",
    "ax4.set_title(\"Rotation Matching:\\nTime taken to answer\")\n",
    "x = ROTATE_time_data(compiled_data).keys()\n",
    "d = [i for i in ROTATE_time_data(compiled_data).values()]\n",
    "ax4.boxplot( d, showmeans=True )\n",
    "ax4.set_xticks(order, x)\n",
    "ax4.set_ylim((0, 61))\n",
    "ax4.set_ylabel(\"Time Taken / Seconds\")\n",
    "ax4.set_xlabel(\"Representation\")\n",
    "\n",
    "ax5.set_title(\"Rotation Matching:\\nTime taken to answer\")\n",
    "x = ROTATE_time_data(ordered_data).keys()\n",
    "d = [i for i in ROTATE_time_data(ordered_data).values()]\n",
    "ax5.boxplot( d, showmeans=True )\n",
    "ax5.set_xticks(order, x)\n",
    "ax5.set_ylim((0, 61))\n",
    "ax5.set_ylabel(\"Time Taken / Seconds\")\n",
    "ax5.set_xlabel(\"Iteration of Test\")\n"
   ]
  },
  {
   "cell_type": "markdown",
   "metadata": {},
   "source": [
    "### Pose Matching\n",
    "The mean, best and worst minimum angles of rotation between objects"
   ]
  },
  {
   "cell_type": "code",
   "execution_count": 17,
   "metadata": {},
   "outputs": [],
   "source": [
    "def POSE_accuracy_data(data):\n",
    "    d = {}\n",
    "\n",
    "    for key, value in data.items():\n",
    "        d[key] = []\n",
    "        \n",
    "        for i in range(len(value[\"Pose Match\"][\"Main Rotor\"])):\n",
    "            a = rotor_from_list(value[\"Pose Match\"][\"Main Rotor\"][i])\n",
    "            b = rotor_from_list(value[\"Pose Match\"][\"Match Rotor\"][i])\n",
    "            d[key].append( rad_deg( Rotor.Rotor4.difference(a, b) ))\n",
    "    return d\n",
    "\n",
    "def POSE_mean_accuracy(data):\n",
    "    d = POSE_accuracy_data(data)\n",
    "    for key, value in d.items():\n",
    "        d[key] = np.mean(value)\n",
    "    return d\n",
    "\n",
    "def POSE_best_accuracy(data):\n",
    "    d = {}\n",
    "\n",
    "    for key, value in data.items():\n",
    "        d[key] = 360\n",
    "        \n",
    "        for i in range(len(value[\"Pose Match\"][\"Main Rotor\"])):\n",
    "            a = rotor_from_list(value[\"Pose Match\"][\"Main Rotor\"][i])\n",
    "            b = rotor_from_list(value[\"Pose Match\"][\"Match Rotor\"][i])\n",
    "            dif = rad_deg( Rotor.Rotor4.difference(a, b) )\n",
    "            if dif < d[key]:\n",
    "                d[key] = dif\n",
    "    return d\n",
    "\n",
    "def POSE_worst_accuracy(data):\n",
    "    d = {}\n",
    "\n",
    "    for key, value in data.items():\n",
    "        d[key] = 0\n",
    "        \n",
    "        for i in range(len(value[\"Pose Match\"][\"Main Rotor\"])):\n",
    "            a = rotor_from_list(value[\"Pose Match\"][\"Main Rotor\"][i])\n",
    "            b = rotor_from_list(value[\"Pose Match\"][\"Match Rotor\"][i])\n",
    "            dif = rad_deg( Rotor.Rotor4.difference(a, b) )\n",
    "            if dif > d[key]:\n",
    "                d[key] = dif\n",
    "    return d"
   ]
  },
  {
   "cell_type": "markdown",
   "metadata": {},
   "source": [
    "The average time taken for every pose match test"
   ]
  },
  {
   "cell_type": "code",
   "execution_count": 29,
   "metadata": {},
   "outputs": [],
   "source": [
    "# Data for the amount of time for every test, \n",
    "# separated by rep or order depending on data\n",
    "def POSE_time_data(data):\n",
    "    times = {}\n",
    "\n",
    "    # iterate through each key\n",
    "    for key, value in data.items():\n",
    "        times[key] = []\n",
    "        \n",
    "        # iterate through all the times and \n",
    "        # if the user did not answer, increment the counter\n",
    "        for i in range(len(value[\"Pose Match\"][\"Time Taken\"])):\n",
    "            times[key].append(value[\"Pose Match\"][\"Time Taken\"][i])\n",
    "\n",
    "    return times\n",
    "\n",
    "# The average amount of time taken \n",
    "# separated by rep or order depending on data\n",
    "def POSE_mean_time(data):\n",
    "    average_time = {}\n",
    "    d = POSE_time_data(data)\n",
    "\n",
    "    for key, value in d.items():\n",
    "        average_time[key] = np.mean(value)\n",
    "    return average_time"
   ]
  },
  {
   "cell_type": "markdown",
   "metadata": {},
   "source": [
    "Output the above data"
   ]
  },
  {
   "cell_type": "code",
   "execution_count": 30,
   "metadata": {},
   "outputs": [
    {
     "name": "stdout",
     "output_type": "stream",
     "text": [
      "Data per Representation:\n",
      ":  {'Control': 78.09794571410225, 'Timeline': 80.46653394647316, '4D-3D': 80.80501631379224, 'Multi-View': 89.51156128419275}\n",
      ":  {'Control': 24.58326888687715, 'Timeline': 14.389714388531381, '4D-3D': 49.601036097822885, 'Multi-View': 75.86594462034822}\n",
      ":  {'Control': 101.74849125330016, 'Timeline': 106.89163409604348, '4D-3D': 131.04458185579324, 'Multi-View': 107.14112676834297}\n",
      ":  {'Control': 124.62487792968759, 'Timeline': 140.15881347656264, '4D-3D': 128.87583414713546, 'Multi-View': 129.21162109375004}\n",
      "\n",
      "Data based on Order:\n",
      ":  {'0': 88.74145348280636, '1': 74.56639189468994, '2': 85.83221930292207, '3': 81.53175290468918}\n",
      ":  {'0': 56.780407259626834, '1': 14.258491405420337, '2': 51.311879287827175, '3': 28.295329339259293}\n",
      ":  {'0': 127.33574813170267, '1': 104.77505828757523, '2': 107.32835416798211, '3': 102.49565166297634}\n",
      ":  {'0': 159.77506917317726, '1': 144.45445149739595, '2': 114.7618896484375, '3': 103.879736328125}\n"
     ]
    }
   ],
   "source": [
    "# Output Data\n",
    "def POSE_output(data):\n",
    "    #print(\": \", POSE_accuracy_data(data))\n",
    "    print(\": \", POSE_mean_accuracy(data))\n",
    "    print(\": \", POSE_best_accuracy(data))\n",
    "    print(\": \", POSE_worst_accuracy(data))\n",
    "    #print(\": \", POSE_time_data(data))\n",
    "    print(\": \", POSE_mean_time(data))\n",
    "\n",
    "# Read in data\n",
    "\n",
    "print(\"Data per Representation:\")\n",
    "with open(\"compiled_data.json\", \"r\") as f:\n",
    "    data = json.load(f)\n",
    "    POSE_output(data)\n",
    "\n",
    "print(\"\\nData based on Order:\")\n",
    "with open(\"ordered_data.json\", \"r\") as f:\n",
    "    data = json.load(f)\n",
    "    POSE_output(data)"
   ]
  },
  {
   "cell_type": "markdown",
   "metadata": {},
   "source": [
    "Graphing Functions"
   ]
  },
  {
   "cell_type": "code",
   "execution_count": null,
   "metadata": {},
   "outputs": [],
   "source": [
    "# Graphing"
   ]
  },
  {
   "cell_type": "markdown",
   "metadata": {},
   "source": [
    "Display Data"
   ]
  },
  {
   "cell_type": "code",
   "execution_count": null,
   "metadata": {},
   "outputs": [],
   "source": [
    "# Load in the data\n",
    "with open(\"compiled_data.json\", \"r\") as f:\n",
    "    compiled_data = json.load(f)\n",
    "\n",
    "with open(\"ordered_data.json\", \"r\") as f:\n",
    "    ordered_data = json.load(f)\n",
    "\n",
    "order = [1,2,3,4]"
   ]
  },
  {
   "cell_type": "code",
   "execution_count": 32,
   "metadata": {},
   "outputs": [
    {
     "data": {
      "text/plain": [
       "Text(0.5, 0, 'Iteration of Test')"
      ]
     },
     "execution_count": 32,
     "metadata": {},
     "output_type": "execute_result"
    },
    {
     "data": {
      "image/png": "[encoded data removed]",
      "text/plain": [
       "<Figure size 864x1728 with 4 Axes>"
      ]
     },
     "metadata": {
      "needs_background": "light"
     },
     "output_type": "display_data"
    }
   ],
   "source": [
    "# Show Graphs\n",
    "fig = plt.figure(figsize = (12, 24))\n",
    "ax0 = fig.add_subplot(421)\n",
    "ax1 = fig.add_subplot(422)\n",
    "ax2 = fig.add_subplot(423)\n",
    "ax3 = fig.add_subplot(424)\n",
    "#ax4 = fig.add_subplot(425)\n",
    "#ax5 = fig.add_subplot(426)\n",
    "fig.subplots_adjust(hspace=0.3)\n",
    "\n",
    "ax0.set_title(\"Pose Matching:\\n Accuracy between objects\")\n",
    "x = POSE_accuracy_data(compiled_data).keys()\n",
    "d = [i for i in POSE_accuracy_data(compiled_data).values()]\n",
    "ax0.boxplot( d, showmeans=True )\n",
    "ax0.set_xticks(order, x)\n",
    "ax0.set_ylim((0, 180))\n",
    "ax0.set_ylabel(\"Minimum Angle between Objects / Degrees\")\n",
    "ax0.set_xlabel(\"Representation\")\n",
    "\n",
    "ax1.set_title(\"Pose Matching:\\n Accuracy between objects\")\n",
    "x = POSE_accuracy_data(ordered_data).keys()\n",
    "d = [i for i in POSE_accuracy_data(ordered_data).values()]\n",
    "ax1.boxplot( d, showmeans=True )\n",
    "ax1.set_xticks(order, x)\n",
    "ax1.set_ylim((0, 180))\n",
    "ax1.set_ylabel(\"Minimum Angle between Objects / Degrees\")\n",
    "ax1.set_xlabel(\"Iteration of Test\")\n",
    "\n",
    "ax2.set_title(\"Pose Matching:\\nTime taken to answer\")\n",
    "x = POSE_time_data(compiled_data).keys()\n",
    "d = [i for i in POSE_time_data(compiled_data).values()]\n",
    "ax2.boxplot( d, showmeans=True )\n",
    "ax2.set_xticks(order, x)\n",
    "ax2.set_ylim((0, 181))\n",
    "ax2.set_ylabel(\"Time Taken / Seconds\")\n",
    "ax2.set_xlabel(\"Representation\")\n",
    "\n",
    "ax3.set_title(\"Pose Matching:\\nTime taken to answer\")\n",
    "x = POSE_time_data(ordered_data).keys()\n",
    "d = [i for i in POSE_time_data(ordered_data).values()]\n",
    "ax3.boxplot( d, showmeans=True )\n",
    "ax3.set_xticks(order, x)\n",
    "ax3.set_ylim((0, 181))\n",
    "ax3.set_ylabel(\"Time Taken / Seconds\")\n",
    "ax3.set_xlabel(\"Iteration of Test\")"
   ]
  },
  {
   "cell_type": "code",
   "execution_count": null,
   "metadata": {},
   "outputs": [],
   "source": [
    "# Take all the data over representations to measure effectiveness of each representation\n",
    "\n",
    "# Take all the data over order index (always 0 1 2 3) to measure progress as they used the system\n",
    "#   was there continuous improvement with each new representation\n",
    "#       (Overlay the graphs)"
   ]
  }
 ],
 "metadata": {
  "interpreter": {
   "hash": "31f2aee4e71d21fbe5cf8b01ff0e069b9275f58929596ceb00d14d90e3e16cd6"
  },
  "kernelspec": {
   "display_name": "Python 3.8.10 64-bit",
   "language": "python",
   "name": "python3"
  },
  "language_info": {
   "codemirror_mode": {
    "name": "ipython",
    "version": 3
   },
   "file_extension": ".py",
   "mimetype": "text/x-python",
   "name": "python",
   "nbconvert_exporter": "python",
   "pygments_lexer": "ipython3",
   "version": "3.8.10"
  },
  "orig_nbformat": 4
 },
 "nbformat": 4,
 "nbformat_minor": 2
}
