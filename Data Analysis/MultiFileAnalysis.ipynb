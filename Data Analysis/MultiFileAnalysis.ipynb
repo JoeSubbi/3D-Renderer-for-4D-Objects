{
 "cells": [
  {
   "cell_type": "markdown",
   "metadata": {},
   "source": [
    "# Data Analysis Over Multiple JSON Data Files from the Unity Experiment Application\n",
    "\n",
    "Given several JSON files containing experiment data, apply a variety of analytical techniques to summarise and interpret the data\n",
    "\n",
    "## Imports and Setup"
   ]
  },
  {
   "cell_type": "code",
   "execution_count": 2,
   "metadata": {},
   "outputs": [],
   "source": [
    "import Rotor\n",
    "import json\n",
    "import math\n",
    "import numpy as np\n",
    "import matplotlib.pyplot as plt"
   ]
  },
  {
   "cell_type": "markdown",
   "metadata": {},
   "source": [
    "## Compile JSON Data into single Dictionaries\n",
    "\n",
    "Create 2 Dictionaries: \n",
    " 1. where data is compiled and labeled per representation\n",
    "    - That is, test data is grouped by the name of the representation\n",
    " 2. where data is compiled and labeled by order\n",
    "    - That is, test data is grouped by the order the user gained experience with 4D shapes"
   ]
  },
  {
   "cell_type": "code",
   "execution_count": 5,
   "metadata": {},
   "outputs": [
    {
     "name": "stdout",
     "output_type": "stream",
     "text": [
      "Reading \"data/1-29-01-2022-13-30.json\"\n",
      "Reading \"data/2-30-01-2022-13-00.json\"\n",
      "Reading \"data/3-30-01-2022-19-00.json\"\n",
      "Reading \"data/4-31-01-2022-16-00.json\"\n"
     ]
    }
   ],
   "source": [
    "# List of data files\n",
    "data_files = [\n",
    "    \"1-29-01-2022-13-30.json\",\n",
    "    \"2-30-01-2022-13-00.json\",\n",
    "    \"3-30-01-2022-19-00.json\",\n",
    "    \"4-31-01-2022-16-00.json\",\n",
    "]\n",
    "\n",
    "directory_prefix = \"data/\"\n",
    "\n",
    "# Unordered dictionary grouped by representation\n",
    "# {\n",
    "#   representation:{\n",
    "#       shape match:{}\n",
    "#       rotation match:{}\n",
    "#       pose match:{}\n",
    "#   }\n",
    "# }\n",
    "representation_data = {}\n",
    "\n",
    "# \"Orderered\" dictionary that could contain any representation\n",
    "# but summarises the order in which the user gained experience of each test\n",
    "# {\n",
    "#   0:{\n",
    "#       shape match:{}\n",
    "#       rotation match:{}\n",
    "#       pose match:{}\n",
    "#   }\n",
    "# }\n",
    "ordered_data = {}\n",
    "\n",
    "for file in data_files:\n",
    "    filename = directory_prefix+file\n",
    "    print(\"Reading \\\"\" + filename + \"\\\"\")\n",
    "\n",
    "    \"\"\"\n",
    "    try:\n",
    "        with open(filename, \"r\") as f:\n",
    "            data = json.load(f)\n",
    "        print(\"Read json data into [data]\")\n",
    "        print(json.dumps(data, indent=4))\n",
    "    except Exception as e:\n",
    "        print(e)\n",
    "    \"\"\"\n",
    "\n"
   ]
  },
  {
   "cell_type": "code",
   "execution_count": null,
   "metadata": {},
   "outputs": [],
   "source": [
    "# Take all the data over representations to measure effectiveness of each representation\n",
    "\n",
    "# Take all the data over order index (always 0 1 2 3) to measure progress as they used the system\n",
    "#   was there continuous improvement with each new representation\n",
    "#       (Overlay the graphs)"
   ]
  }
 ],
 "metadata": {
  "interpreter": {
   "hash": "31f2aee4e71d21fbe5cf8b01ff0e069b9275f58929596ceb00d14d90e3e16cd6"
  },
  "kernelspec": {
   "display_name": "Python 3.8.10 64-bit",
   "language": "python",
   "name": "python3"
  },
  "language_info": {
   "codemirror_mode": {
    "name": "ipython",
    "version": 3
   },
   "file_extension": ".py",
   "mimetype": "text/x-python",
   "name": "python",
   "nbconvert_exporter": "python",
   "pygments_lexer": "ipython3",
   "version": "3.8.10"
  },
  "orig_nbformat": 4
 },
 "nbformat": 4,
 "nbformat_minor": 2
}
