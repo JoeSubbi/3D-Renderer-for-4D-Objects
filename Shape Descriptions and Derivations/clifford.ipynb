{
 "cells": [
  {
   "cell_type": "code",
   "execution_count": 2,
   "metadata": {},
   "outputs": [],
   "source": [
    "#!python3 -m pip install clifford\n",
    "\n",
    "from clifford.g4 import *\n",
    "import math\n",
    "import pprint\n"
   ]
  },
  {
   "cell_type": "code",
   "execution_count": 6,
   "metadata": {},
   "outputs": [
    {
     "name": "stdout",
     "output_type": "stream",
     "text": [
      "-(1^e234)\n",
      "(1^e234)\n",
      "(1^e234)\n",
      "(1^e14)\n",
      "-(1^e14)\n",
      "1\n",
      "-2\n"
     ]
    }
   ],
   "source": [
    "P = (1, e12, e13, e14, e23, e24, e34, e1234)\n",
    "x = (e1, e2, e3, e4)\n",
    "\n",
    "# Negation of Product\n",
    "print(e24 * e3)\n",
    "print(-e24 * e3)\n",
    "print(-(e24 * e3))\n",
    "\n",
    "# Reversion of Bivector\n",
    "print(P[3])\n",
    "print(~P[3])\n",
    "\n",
    "# Reversion of Scalar\n",
    "print(P[0])\n",
    "print(~P[0])"
   ]
  },
  {
   "cell_type": "markdown",
   "metadata": {},
   "source": [
    "# 4D"
   ]
  },
  {
   "cell_type": "code",
   "execution_count": 7,
   "metadata": {},
   "outputs": [],
   "source": [
    "P = (1, e12, e13, e14, e23, e24, e34, e1234)\n",
    "x = (e1, e2, e3, e4)"
   ]
  },
  {
   "cell_type": "code",
   "execution_count": 8,
   "metadata": {},
   "outputs": [
    {
     "name": "stdout",
     "output_type": "stream",
     "text": [
      "{'(1^e1)': [(0, 0), (1, 1), (2, 2), (3, 3)],\n",
      " '(1^e123)': [(1, 2), (4, 0), (7, 3)],\n",
      " '(1^e124)': [(1, 3), (5, 0)],\n",
      " '(1^e134)': [(2, 3), (6, 0), (7, 1)],\n",
      " '(1^e2)': [(0, 1), (4, 2), (5, 3)],\n",
      " '(1^e234)': [(4, 3), (6, 1)],\n",
      " '(1^e3)': [(0, 2), (6, 3)],\n",
      " '(1^e4)': [(0, 3)],\n",
      " '-(1^e123)': [(2, 1)],\n",
      " '-(1^e124)': [(3, 1), (7, 2)],\n",
      " '-(1^e134)': [(3, 2)],\n",
      " '-(1^e2)': [(1, 0)],\n",
      " '-(1^e234)': [(5, 2), (7, 0)],\n",
      " '-(1^e3)': [(2, 0), (4, 1)],\n",
      " '-(1^e4)': [(3, 0), (5, 1), (6, 2)]}\n"
     ]
    }
   ],
   "source": [
    "# q = Px\n",
    "q = {}\n",
    "\n",
    "for i in range(len(P)):\n",
    "    for j in range(len(x)):\n",
    "        try:\n",
    "            q[f\"{P[i]*x[j]}\"] .append((i, j))\n",
    "        except:\n",
    "            q[f\"{P[i]*x[j]}\"] = [(i, j)]\n",
    "\n",
    "pprint.pprint(q)"
   ]
  },
  {
   "cell_type": "code",
   "execution_count": 9,
   "metadata": {},
   "outputs": [
    {
     "name": "stdout",
     "output_type": "stream",
     "text": [
      "q.x =  + 1 * (1^e1) + (1^e12) * (1^e2) + (1^e13) * (1^e3) + (1^e14) * (1^e4)\n",
      "q.y =  + 1 * (1^e2) + (1^e23) * (1^e3) + (1^e24) * (1^e4) - (1^e12) * (1^e1)\n",
      "q.z =  + 1 * (1^e3) + (1^e34) * (1^e4) - (1^e13) * (1^e1) - (1^e23) * (1^e2)\n",
      "q.w =  + 1 * (1^e4) - (1^e14) * (1^e1) - (1^e24) * (1^e2) - (1^e34) * (1^e3)\n",
      "\n",
      "q123 =  + (1^e12) * (1^e3) + (1^e23) * (1^e1) + (1^e1234) * (1^e4) - (1^e13) * (1^e2)\n",
      "q124 =  + (1^e12) * (1^e4) + (1^e24) * (1^e1) - (1^e14) * (1^e2) - (1^e1234) * (1^e3)\n",
      "q134 =  + (1^e13) * (1^e4) + (1^e34) * (1^e1) + (1^e1234) * (1^e2) - (1^e14) * (1^e3)\n",
      "q234 =  + (1^e23) * (1^e4) + (1^e34) * (1^e2) - (1^e24) * (1^e3) - (1^e1234) * (1^e1)\n"
     ]
    }
   ],
   "source": [
    "q1 = \"\"\n",
    "q2 = \"\"\n",
    "q3 = \"\"\n",
    "q4 = \"\"\n",
    "\n",
    "q123 = \"\"\n",
    "q124 = \"\"\n",
    "q134 = \"\"\n",
    "q234 = \"\"\n",
    "\n",
    "# Vector\n",
    "# Positive Part\n",
    "for a, b in q['(1^e1)']:\n",
    "    q1 += f\" + {P[a]} * {x[b]}\"\n",
    "\n",
    "for a, b in q['(1^e2)']:\n",
    "    q2 += f\" + {P[a]} * {x[b]}\"\n",
    "\n",
    "for a, b in q['(1^e3)']:\n",
    "    q3 += f\" + {P[a]} * {x[b]}\"\n",
    "\n",
    "for a, b in q['(1^e4)']:\n",
    "    q4 += f\" + {P[a]} * {x[b]}\"\n",
    "\n",
    "\n",
    "# Negative Part\n",
    "for a, b in q['-(1^e2)']:\n",
    "    q2 += f\" - {P[a]} * {x[b]}\"\n",
    "\n",
    "for a, b in q['-(1^e3)']:\n",
    "    q3 += f\" - {P[a]} * {x[b]}\"\n",
    "\n",
    "for a, b in q['-(1^e4)']:\n",
    "    q4 += f\" - {P[a]} * {x[b]}\"\n",
    "\n",
    "print(\"q.x = \" + q1)\n",
    "print(\"q.y = \" + q2)\n",
    "print(\"q.z = \" + q3)\n",
    "print(\"q.w = \" + q4)\n",
    "\n",
    "print()\n",
    "\n",
    "# TriVector\n",
    "# Positive Part\n",
    "for a, b in q['(1^e123)']:\n",
    "    q123 += f\" + {P[a]} * {x[b]}\"\n",
    "\n",
    "for a, b in q['(1^e124)']:\n",
    "    q124 += f\" + {P[a]} * {x[b]}\"\n",
    "\n",
    "for a, b in q['(1^e134)']:\n",
    "    q134 += f\" + {P[a]} * {x[b]}\"\n",
    "\n",
    "for a, b in q['(1^e234)']:\n",
    "    q234 += f\" + {P[a]} * {x[b]}\"\n",
    "\n",
    "# Negative Part\n",
    "for a, b in q['-(1^e123)']:\n",
    "    q123 += f\" - {P[a]} * {x[b]}\"\n",
    "\n",
    "for a, b in q['-(1^e124)']:\n",
    "    q124 += f\" - {P[a]} * {x[b]}\"\n",
    "\n",
    "for a, b in q['-(1^e134)']:\n",
    "    q134 += f\" - {P[a]} * {x[b]}\"\n",
    "\n",
    "for a, b in q['-(1^e234)']:\n",
    "    q234 += f\" - {P[a]} * {x[b]}\"\n",
    "\n",
    "print(\"q123 = \" + q123)\n",
    "print(\"q124 = \" + q124)\n",
    "print(\"q134 = \" + q134)\n",
    "print(\"q234 = \" + q234)"
   ]
  },
  {
   "cell_type": "code",
   "execution_count": 10,
   "metadata": {},
   "outputs": [
    {
     "name": "stdout",
     "output_type": "stream",
     "text": [
      "{'(1^e1)': [(1, 1), (2, 2), (3, 3), (4, 4), (5, 5), (6, 6), (7, 7)],\n",
      " '(1^e123)': [(1, 2), (5, 6), (7, 3)],\n",
      " '(1^e124)': [(1, 3), (2, 7), (6, 4)],\n",
      " '(1^e134)': [(2, 3), (4, 5), (7, 1)],\n",
      " '(1^e2)': [(2, 4), (3, 5), (7, 6)],\n",
      " '(1^e234)': [(0, 7), (2, 5), (5, 2)],\n",
      " '(1^e3)': [(3, 6), (4, 1), (5, 7)],\n",
      " '(1^e4)': [(5, 1), (6, 2), (7, 4)],\n",
      " '-(1^e123)': [(0, 4), (2, 1), (3, 7), (6, 5)],\n",
      " '-(1^e124)': [(0, 5), (3, 1), (4, 6), (7, 2)],\n",
      " '-(1^e134)': [(0, 6), (1, 7), (3, 2), (5, 4)],\n",
      " '-(1^e2)': [(0, 1), (4, 2), (5, 3), (6, 7)],\n",
      " '-(1^e234)': [(1, 6), (3, 4), (4, 3), (6, 1)],\n",
      " '-(1^e3)': [(0, 2), (1, 4), (6, 3), (7, 5)],\n",
      " '-(1^e4)': [(0, 3), (1, 5), (2, 6), (4, 7)],\n",
      " '-(2^e1)': [(0, 0)],\n",
      " '-(2^e123)': [(4, 0)],\n",
      " '-(2^e124)': [(5, 0)],\n",
      " '-(2^e134)': [(6, 0)],\n",
      " '-(2^e2)': [(1, 0)],\n",
      " '-(2^e234)': [(7, 0)],\n",
      " '-(2^e3)': [(2, 0)],\n",
      " '-(2^e4)': [(3, 0)]}\n"
     ]
    }
   ],
   "source": [
    "# r = qP*\n",
    "q = [e1, e2, e3, e4, e123, e124, e134, e234]\n",
    "r = {}\n",
    "\n",
    "for i in range(len(q)):\n",
    "    for j in range(len(P)):\n",
    "        rev = ~P[j]\n",
    "        try:\n",
    "            r[f\"{q[i]*rev}\"].append((i, j))\n",
    "        except:\n",
    "            r[f\"{q[i]*rev}\"] = [(i, j)]\n",
    "\n",
    "pprint.pprint(r)"
   ]
  },
  {
   "cell_type": "code",
   "execution_count": 11,
   "metadata": {},
   "outputs": [
    {
     "name": "stdout",
     "output_type": "stream",
     "text": [
      "r.x =  + (1^e2) * (1^e12) + (1^e3) * (1^e13) + (1^e4) * (1^e14) + (1^e123) * (1^e23) + (1^e124) * (1^e24) + (1^e134) * (1^e34) + (1^e234) * (1^e1234) + (1^e1) * 1\n",
      "r.y =  + (1^e3) * (1^e23) + (1^e4) * (1^e24) + (1^e234) * (1^e34) - (1^e1) * (1^e12) - (1^e123) * (1^e13) - (1^e124) * (1^e14) - (1^e134) * (1^e1234) + (1^e2) * 1\n",
      "r.z =  + (1^e4) * (1^e34) + (1^e123) * (1^e12) + (1^e124) * (1^e1234) - (1^e1) * (1^e13) - (1^e2) * (1^e23) - (1^e134) * (1^e14) - (1^e234) * (1^e24) + (1^e3) * 1\n",
      "r.w =  + (1^e124) * (1^e12) + (1^e134) * (1^e13) + (1^e234) * (1^e23) - (1^e1) * (1^e14) - (1^e2) * (1^e24) - (1^e3) * (1^e34) - (1^e123) * (1^e1234) + (1^e4) * 1\n"
     ]
    }
   ],
   "source": [
    "r1 = \"\"\n",
    "r2 = \"\"\n",
    "r3 = \"\"\n",
    "r4 = \"\"\n",
    "\n",
    "r123 = \"\"\n",
    "r124 = \"\"\n",
    "r134 = \"\"\n",
    "r234 = \"\"\n",
    "\n",
    "# Positive Part\n",
    "for a, b in r['(1^e1)']:\n",
    "    r1 += f\" + {q[a]} * {P[b]}\"\n",
    "\n",
    "for a, b in r['(1^e2)']:\n",
    "    r2 += f\" + {q[a]} * {P[b]}\"\n",
    "\n",
    "for a, b in r['(1^e3)']:\n",
    "    r3 += f\" + {q[a]} * {P[b]}\"\n",
    "\n",
    "for a, b in r['(1^e4)']:\n",
    "    r4 += f\" + {q[a]} * {P[b]}\"\n",
    "\n",
    "# Negative Part\n",
    "#for a, b in r['-(1^e1)']:\n",
    "#    r1 += f\" + {q[a]} * {P[b]}\"\n",
    "\n",
    "for a, b in r['-(1^e2)']:\n",
    "    r2 += f\" - {q[a]} * {P[b]}\"\n",
    "\n",
    "for a, b in r['-(1^e3)']:\n",
    "    r3 += f\" - {q[a]} * {P[b]}\"\n",
    "\n",
    "for a, b in r['-(1^e4)']:\n",
    "    r4 += f\" - {q[a]} * {P[b]}\"\n",
    "\n",
    "r1 += f\" + {q[r['-(2^e1)'][0][0]]} * {P[r['-(2^e1)'][0][1]]}\"\n",
    "r2 += f\" + {q[r['-(2^e2)'][0][0]]} * {P[r['-(2^e2)'][0][1]]}\"\n",
    "r3 += f\" + {q[r['-(2^e3)'][0][0]]} * {P[r['-(2^e3)'][0][1]]}\"\n",
    "r4 += f\" + {q[r['-(2^e4)'][0][0]]} * {P[r['-(2^e4)'][0][1]]}\"\n",
    "\n",
    "print(\"r.x = \" + r1)\n",
    "print(\"r.y = \" + r2)\n",
    "print(\"r.z = \" + r3)\n",
    "print(\"r.w = \" + r4)"
   ]
  },
  {
   "cell_type": "markdown",
   "metadata": {},
   "source": [
    "# 3D"
   ]
  },
  {
   "cell_type": "code",
   "execution_count": 12,
   "metadata": {},
   "outputs": [
    {
     "name": "stdout",
     "output_type": "stream",
     "text": [
      "{'(1^e1)': [(0, 0), (1, 1), (2, 2)],\n",
      " '(1^e123)': [(1, 2), (3, 0)],\n",
      " '(1^e2)': [(0, 1), (3, 2)],\n",
      " '(1^e3)': [(0, 2)],\n",
      " '-(1^e123)': [(2, 1)],\n",
      " '-(1^e2)': [(1, 0)],\n",
      " '-(1^e3)': [(2, 0), (3, 1)]}\n"
     ]
    }
   ],
   "source": [
    "P = [1, e12, e13, e23]\n",
    "x = [e1, e2, e3]\n",
    "\n",
    "# q = Px\n",
    "q = {}\n",
    "\n",
    "for i in range(len(P)):\n",
    "    for j in range(len(x)):\n",
    "        try:\n",
    "            q[f\"{P[i]*x[j]}\"] .append((i, j))\n",
    "        except:\n",
    "            q[f\"{P[i]*x[j]}\"] = [(i, j)]\n",
    "\n",
    "pprint.pprint(q)"
   ]
  },
  {
   "cell_type": "code",
   "execution_count": 13,
   "metadata": {},
   "outputs": [
    {
     "name": "stdout",
     "output_type": "stream",
     "text": [
      "q.x =  + 1 * (1^e1) + (1^e12) * (1^e2) + (1^e13) * (1^e3)\n",
      "q.y =  + 1 * (1^e2) + (1^e23) * (1^e3) - (1^e12) * (1^e1)\n",
      "q.z =  + 1 * (1^e3) - (1^e13) * (1^e1) - (1^e23) * (1^e2)\n",
      "\n",
      "q123 =  + (1^e12) * (1^e3) + (1^e23) * (1^e1) - (1^e13) * (1^e2)\n"
     ]
    }
   ],
   "source": [
    "q1 = \"\"\n",
    "q2 = \"\"\n",
    "q3 = \"\"\n",
    "\n",
    "q123 = \"\"\n",
    "\n",
    "# Vector\n",
    "# Positive Part\n",
    "for a, b in q['(1^e1)']:\n",
    "    q1 += f\" + {P[a]} * {x[b]}\"\n",
    "\n",
    "for a, b in q['(1^e2)']:\n",
    "    q2 += f\" + {P[a]} * {x[b]}\"\n",
    "\n",
    "for a, b in q['(1^e3)']:\n",
    "    q3 += f\" + {P[a]} * {x[b]}\"\n",
    "\n",
    "# Negative Part\n",
    "#for a, b in q['-(1^e1)']:\n",
    "#    q1 += f\" - {P[a]} * {x[b]}\"\n",
    "\n",
    "for a, b in q['-(1^e2)']:\n",
    "    q2 += f\" - {P[a]} * {x[b]}\"\n",
    "\n",
    "for a, b in q['-(1^e3)']:\n",
    "    q3 += f\" - {P[a]} * {x[b]}\"\n",
    "\n",
    "print(\"q.x = \" + q1)\n",
    "print(\"q.y = \" + q2)\n",
    "print(\"q.z = \" + q3)\n",
    "\n",
    "print()\n",
    "\n",
    "# TriVector\n",
    "# Positive Part\n",
    "for a, b in q['(1^e123)']:\n",
    "    q123 += f\" + {P[a]} * {x[b]}\"\n",
    "\n",
    "# Negative Part\n",
    "for a, b in q['-(1^e123)']:\n",
    "    q123 += f\" - {P[a]} * {x[b]}\"\n",
    "\n",
    "print(\"q123 = \" + q123)"
   ]
  },
  {
   "cell_type": "code",
   "execution_count": 14,
   "metadata": {},
   "outputs": [
    {
     "name": "stdout",
     "output_type": "stream",
     "text": [
      "{'(1^e1)': [(1, 1), (2, 2), (3, 3)],\n",
      " '(1^e123)': [(1, 2)],\n",
      " '(1^e2)': [(2, 3)],\n",
      " '(1^e3)': [(3, 1)],\n",
      " '-(1^e123)': [(0, 3), (2, 1)],\n",
      " '-(1^e2)': [(0, 1), (3, 2)],\n",
      " '-(1^e3)': [(0, 2), (1, 3)],\n",
      " '-(2^e1)': [(0, 0)],\n",
      " '-(2^e123)': [(3, 0)],\n",
      " '-(2^e2)': [(1, 0)],\n",
      " '-(2^e3)': [(2, 0)]}\n"
     ]
    }
   ],
   "source": [
    "# r = qP*\n",
    "q = [e1, e2, e3, e123]\n",
    "r = {}\n",
    "\n",
    "for i in range(len(q)):\n",
    "    for j in range(len(P)):\n",
    "        rev = ~P[j]\n",
    "        try:\n",
    "            r[f\"{q[i]*rev}\"].append((i, j))\n",
    "        except:\n",
    "            r[f\"{q[i]*rev}\"] = [(i, j)]\n",
    "\n",
    "pprint.pprint(r)"
   ]
  },
  {
   "cell_type": "code",
   "execution_count": 15,
   "metadata": {},
   "outputs": [
    {
     "name": "stdout",
     "output_type": "stream",
     "text": [
      "r.x =  + (1^e2) * (1^e12) + (1^e3) * (1^e13) + (1^e123) * (1^e23) + (1^e1) * 1\n",
      "r.y =  + (1^e3) * (1^e23) - (1^e1) * (1^e12) - (1^e123) * (1^e13) + (1^e2) * 1\n",
      "r.z =  + (1^e123) * (1^e12) - (1^e1) * (1^e13) - (1^e2) * (1^e23) + (1^e3) * 1\n"
     ]
    }
   ],
   "source": [
    "r1 = \"\"\n",
    "r2 = \"\"\n",
    "r3 = \"\"\n",
    "\n",
    "# Positive Part\n",
    "for a, b in r['(1^e1)']:\n",
    "    r1 += f\" + {q[a]} * {P[b]}\"\n",
    "\n",
    "for a, b in r['(1^e2)']:\n",
    "    r2 += f\" + {q[a]} * {P[b]}\"\n",
    "\n",
    "for a, b in r['(1^e3)']:\n",
    "    r3 += f\" + {q[a]} * {P[b]}\"\n",
    "\n",
    "# Negative Part\n",
    "#for a, b in r['-(1^e1)']:\n",
    "#    r1 += f\" + {q[a]} * {P[b]}\"\n",
    "\n",
    "for a, b in r['-(1^e2)']:\n",
    "    r2 += f\" - {q[a]} * {P[b]}\"\n",
    "\n",
    "for a, b in r['-(1^e3)']:\n",
    "    r3 += f\" - {q[a]} * {P[b]}\"\n",
    "\n",
    "r1 += f\" + {q[r['-(2^e1)'][0][0]]} * {P[r['-(2^e1)'][0][1]]}\"\n",
    "r2 += f\" + {q[r['-(2^e2)'][0][0]]} * {P[r['-(2^e2)'][0][1]]}\"\n",
    "r3 += f\" + {q[r['-(2^e3)'][0][0]]} * {P[r['-(2^e3)'][0][1]]}\"\n",
    "\n",
    "print(\"r.x = \" + r1)\n",
    "print(\"r.y = \" + r2)\n",
    "print(\"r.z = \" + r3)"
   ]
  },
  {
   "cell_type": "markdown",
   "metadata": {},
   "source": [
    "# Transformations"
   ]
  },
  {
   "cell_type": "code",
   "execution_count": 23,
   "metadata": {},
   "outputs": [
    {
     "name": "stdout",
     "output_type": "stream",
     "text": [
      "Layout([1, 1, 1, 1], ids=BasisVectorIds.ordered_integers(4), order=BasisBladeOrder.shortlex(4), names=['', 'e1', 'e2', 'e3', 'e4', 'e12', 'e13', 'e14', 'e23', 'e24', 'e34', 'e123', 'e124', 'e134', 'e234', 'e1234'])\n"
     ]
    }
   ],
   "source": [
    "from clifford import  transformations\n",
    "\n",
    "layout = Layout([1,1,1,1])\n",
    "print(layout)"
   ]
  },
  {
   "cell_type": "code",
   "execution_count": 26,
   "metadata": {},
   "outputs": [
    {
     "name": "stdout",
     "output_type": "stream",
     "text": [
      "(1^e1) (1^e2) (1^e3) (1^e4)\n"
     ]
    }
   ],
   "source": [
    "e1, e2, e3, e4 = layout.basis_vectors_lst\n",
    "print(e1, e2, e3, e4)"
   ]
  },
  {
   "cell_type": "code",
   "execution_count": 27,
   "metadata": {},
   "outputs": [
    {
     "name": "stdout",
     "output_type": "stream",
     "text": [
      "Layout([1, 1, 1, 1], ids=BasisVectorIds.ordered_integers(4), order=BasisBladeOrder.shortlex(4), names=['', 'f1', 'f2', 'f3', 'f4', 'f12', 'f13', 'f14', 'f23', 'f24', 'f34', 'f123', 'f124', 'f134', 'f234', 'f1234'])\n"
     ]
    }
   ],
   "source": [
    "layout_new = Layout([1,1,1,1], names = 'f')\n",
    "print(layout_new)"
   ]
  },
  {
   "cell_type": "markdown",
   "metadata": {},
   "source": [
    "# SymPy"
   ]
  },
  {
   "cell_type": "code",
   "execution_count": 22,
   "metadata": {},
   "outputs": [
    {
     "data": {
      "text/latex": [
       "\\begin{equation*}  \\begin{aligned}[t]  & \\left ( 2 a^{w} b^{xw} s + 2 a^{w} b^{xy} b^{yw} + 2 a^{w} b^{xz} b^{zw} + 2 a^{w} b^{yz} p^{xyzw} - a^{x} {\\left ( b^{xw} \\right )}^{2} - a^{x} {\\left ( b^{xy} \\right )}^{2} - a^{x} {\\left ( b^{xz} \\right )}^{2} + a^{x} {\\left ( b^{yw} \\right )}^{2} + a^{x} {\\left ( b^{yz} \\right )}^{2} + a^{x} {\\left ( b^{zw} \\right )}^{2} - a^{x} {\\left ( p^{xyzw} \\right )}^{2} + a^{x} s^{2} - 2 a^{y} b^{xw} b^{yw} + 2 a^{y} b^{xy} s - 2 a^{y} b^{xz} b^{yz} + 2 a^{y} b^{zw} p^{xyzw} - 2 a^{z} b^{xw} b^{zw} + 2 a^{z} b^{xy} b^{yz} + 2 a^{z} b^{xz} s - 2 a^{z} b^{yw} p^{xyzw}\\right ) \\boldsymbol{e}_{x} \\\\  &  + \\left ( - 2 a^{w} b^{xw} b^{xy} - 2 a^{w} b^{xz} p^{xyzw} + 2 a^{w} b^{yw} s + 2 a^{w} b^{yz} b^{zw} - 2 a^{x} b^{xw} b^{yw} - 2 a^{x} b^{xy} s - 2 a^{x} b^{xz} b^{yz} - 2 a^{x} b^{zw} p^{xyzw} + a^{y} {\\left ( b^{xw} \\right )}^{2} - a^{y} {\\left ( b^{xy} \\right )}^{2} + a^{y} {\\left ( b^{xz} \\right )}^{2} - a^{y} {\\left ( b^{yw} \\right )}^{2} - a^{y} {\\left ( b^{yz} \\right )}^{2} + a^{y} {\\left ( b^{zw} \\right )}^{2} - a^{y} {\\left ( p^{xyzw} \\right )}^{2} + a^{y} s^{2} + 2 a^{z} b^{xw} p^{xyzw} - 2 a^{z} b^{xy} b^{xz} - 2 a^{z} b^{yw} b^{zw} + 2 a^{z} b^{yz} s\\right ) \\boldsymbol{e}_{y} \\\\  &  + \\left ( - 2 a^{w} b^{xw} b^{xz} + 2 a^{w} b^{xy} p^{xyzw} - 2 a^{w} b^{yw} b^{yz} + 2 a^{w} b^{zw} s - 2 a^{x} b^{xw} b^{zw} + 2 a^{x} b^{xy} b^{yz} - 2 a^{x} b^{xz} s + 2 a^{x} b^{yw} p^{xyzw} - 2 a^{y} b^{xw} p^{xyzw} - 2 a^{y} b^{xy} b^{xz} - 2 a^{y} b^{yw} b^{zw} - 2 a^{y} b^{yz} s + a^{z} {\\left ( b^{xw} \\right )}^{2} + a^{z} {\\left ( b^{xy} \\right )}^{2} - a^{z} {\\left ( b^{xz} \\right )}^{2} + a^{z} {\\left ( b^{yw} \\right )}^{2} - a^{z} {\\left ( b^{yz} \\right )}^{2} - a^{z} {\\left ( b^{zw} \\right )}^{2} - a^{z} {\\left ( p^{xyzw} \\right )}^{2} + a^{z} s^{2}\\right ) \\boldsymbol{e}_{z} \\\\  &  + \\left ( - a^{w} {\\left ( b^{xw} \\right )}^{2} + a^{w} {\\left ( b^{xy} \\right )}^{2} + a^{w} {\\left ( b^{xz} \\right )}^{2} - a^{w} {\\left ( b^{yw} \\right )}^{2} + a^{w} {\\left ( b^{yz} \\right )}^{2} - a^{w} {\\left ( b^{zw} \\right )}^{2} - a^{w} {\\left ( p^{xyzw} \\right )}^{2} + a^{w} s^{2} - 2 a^{x} b^{xw} s + 2 a^{x} b^{xy} b^{yw} + 2 a^{x} b^{xz} b^{zw} - 2 a^{x} b^{yz} p^{xyzw} - 2 a^{y} b^{xw} b^{xy} + 2 a^{y} b^{xz} p^{xyzw} - 2 a^{y} b^{yw} s + 2 a^{y} b^{yz} b^{zw} - 2 a^{z} b^{xw} b^{xz} - 2 a^{z} b^{xy} p^{xyzw} - 2 a^{z} b^{yw} b^{yz} - 2 a^{z} b^{zw} s\\right ) \\boldsymbol{e}_{w}  \\end{aligned}  \\end{equation*}"
      ],
      "text/plain": [
       " (2*a__w*b__xw*s + 2*a__w*b__xy*b__yw + 2*a__w*b__xz*b__zw + 2*a__w*b__yz*p__xyzw - a__x*b__xw**2 - a__x*b__xy**2 - a__x*b__xz**2 + a__x*b__yw**2 + a__x*b__yz**2 + a__x*b__zw**2 - a__x*p__xyzw**2 + a__x*s**2 - 2*a__y*b__xw*b__yw + 2*a__y*b__xy*s - 2*a__y*b__xz*b__yz + 2*a__y*b__zw*p__xyzw - 2*a__z*b__xw*b__zw + 2*a__z*b__xy*b__yz + 2*a__z*b__xz*s - 2*a__z*b__yw*p__xyzw)*e_x\n",
       " + (-2*a__w*b__xw*b__xy - 2*a__w*b__xz*p__xyzw + 2*a__w*b__yw*s + 2*a__w*b__yz*b__zw - 2*a__x*b__xw*b__yw - 2*a__x*b__xy*s - 2*a__x*b__xz*b__yz - 2*a__x*b__zw*p__xyzw + a__y*b__xw**2 - a__y*b__xy**2 + a__y*b__xz**2 - a__y*b__yw**2 - a__y*b__yz**2 + a__y*b__zw**2 - a__y*p__xyzw**2 + a__y*s**2 + 2*a__z*b__xw*p__xyzw - 2*a__z*b__xy*b__xz - 2*a__z*b__yw*b__zw + 2*a__z*b__yz*s)*e_y\n",
       " + (-2*a__w*b__xw*b__xz + 2*a__w*b__xy*p__xyzw - 2*a__w*b__yw*b__yz + 2*a__w*b__zw*s - 2*a__x*b__xw*b__zw + 2*a__x*b__xy*b__yz - 2*a__x*b__xz*s + 2*a__x*b__yw*p__xyzw - 2*a__y*b__xw*p__xyzw - 2*a__y*b__xy*b__xz - 2*a__y*b__yw*b__zw - 2*a__y*b__yz*s + a__z*b__xw**2 + a__z*b__xy**2 - a__z*b__xz**2 + a__z*b__yw**2 - a__z*b__yz**2 - a__z*b__zw**2 - a__z*p__xyzw**2 + a__z*s**2)*e_z\n",
       " + (-a__w*b__xw**2 + a__w*b__xy**2 + a__w*b__xz**2 - a__w*b__yw**2 + a__w*b__yz**2 - a__w*b__zw**2 - a__w*p__xyzw**2 + a__w*s**2 - 2*a__x*b__xw*s + 2*a__x*b__xy*b__yw + 2*a__x*b__xz*b__zw - 2*a__x*b__yz*p__xyzw - 2*a__y*b__xw*b__xy + 2*a__y*b__xz*p__xyzw - 2*a__y*b__yw*s + 2*a__y*b__yz*b__zw - 2*a__z*b__xw*b__xz - 2*a__z*b__xy*p__xyzw - 2*a__z*b__yw*b__yz - 2*a__z*b__zw*s)*e_w"
      ]
     },
     "execution_count": 22,
     "metadata": {},
     "output_type": "execute_result"
    }
   ],
   "source": [
    "from sympy import symbols\n",
    "from galgebra.ga import Ga\n",
    "from galgebra.printer import Format\n",
    "Format(Fmode = False, Dmode = True)\n",
    "s4coords = (x,y,z,w) = symbols('x y z w', real=True)\n",
    "s4 = Ga('e',\n",
    "g=[1,1,1,1],\n",
    "coords=s4coords)\n",
    "a = s4.mv('a','vector')\n",
    "b = s4.mv('b','bivector')\n",
    "s = s4.mv('s', 'scalar')\n",
    "p = s4.mv('p', 'pseudo')\n",
    "rotor = b + s + p\n",
    "(rotor * a * rotor.rev()).Fmt(3)"
   ]
  },
  {
   "cell_type": "code",
   "execution_count": 25,
   "metadata": {},
   "outputs": [
    {
     "data": {
      "text/latex": [
       "\\begin{equation*}  \\begin{aligned}[t]  & \\left ( 2 a^{w} b^{xw} s + 2 a^{w} b^{xy} b^{yw} + 2 a^{w} b^{xz} b^{zw} - a^{x} {\\left ( b^{xw} \\right )}^{2} - a^{x} {\\left ( b^{xy} \\right )}^{2} - a^{x} {\\left ( b^{xz} \\right )}^{2} + a^{x} {\\left ( b^{yw} \\right )}^{2} + a^{x} {\\left ( b^{yz} \\right )}^{2} + a^{x} {\\left ( b^{zw} \\right )}^{2} + a^{x} s^{2} - 2 a^{y} b^{xw} b^{yw} + 2 a^{y} b^{xy} s - 2 a^{y} b^{xz} b^{yz} - 2 a^{z} b^{xw} b^{zw} + 2 a^{z} b^{xy} b^{yz} + 2 a^{z} b^{xz} s\\right ) \\boldsymbol{e}_{x} \\\\  &  + \\left ( - 2 a^{w} b^{xw} b^{xy} + 2 a^{w} b^{yw} s + 2 a^{w} b^{yz} b^{zw} - 2 a^{x} b^{xw} b^{yw} - 2 a^{x} b^{xy} s - 2 a^{x} b^{xz} b^{yz} + a^{y} {\\left ( b^{xw} \\right )}^{2} - a^{y} {\\left ( b^{xy} \\right )}^{2} + a^{y} {\\left ( b^{xz} \\right )}^{2} - a^{y} {\\left ( b^{yw} \\right )}^{2} - a^{y} {\\left ( b^{yz} \\right )}^{2} + a^{y} {\\left ( b^{zw} \\right )}^{2} + a^{y} s^{2} - 2 a^{z} b^{xy} b^{xz} - 2 a^{z} b^{yw} b^{zw} + 2 a^{z} b^{yz} s\\right ) \\boldsymbol{e}_{y} \\\\  &  + \\left ( - 2 a^{w} b^{xw} b^{xz} - 2 a^{w} b^{yw} b^{yz} + 2 a^{w} b^{zw} s - 2 a^{x} b^{xw} b^{zw} + 2 a^{x} b^{xy} b^{yz} - 2 a^{x} b^{xz} s - 2 a^{y} b^{xy} b^{xz} - 2 a^{y} b^{yw} b^{zw} - 2 a^{y} b^{yz} s + a^{z} {\\left ( b^{xw} \\right )}^{2} + a^{z} {\\left ( b^{xy} \\right )}^{2} - a^{z} {\\left ( b^{xz} \\right )}^{2} + a^{z} {\\left ( b^{yw} \\right )}^{2} - a^{z} {\\left ( b^{yz} \\right )}^{2} - a^{z} {\\left ( b^{zw} \\right )}^{2} + a^{z} s^{2}\\right ) \\boldsymbol{e}_{z} \\\\  &  + \\left ( - a^{w} {\\left ( b^{xw} \\right )}^{2} + a^{w} {\\left ( b^{xy} \\right )}^{2} + a^{w} {\\left ( b^{xz} \\right )}^{2} - a^{w} {\\left ( b^{yw} \\right )}^{2} + a^{w} {\\left ( b^{yz} \\right )}^{2} - a^{w} {\\left ( b^{zw} \\right )}^{2} + a^{w} s^{2} - 2 a^{x} b^{xw} s + 2 a^{x} b^{xy} b^{yw} + 2 a^{x} b^{xz} b^{zw} - 2 a^{y} b^{xw} b^{xy} - 2 a^{y} b^{yw} s + 2 a^{y} b^{yz} b^{zw} - 2 a^{z} b^{xw} b^{xz} - 2 a^{z} b^{yw} b^{yz} - 2 a^{z} b^{zw} s\\right ) \\boldsymbol{e}_{w}  \\end{aligned}  \\end{equation*}"
      ],
      "text/plain": [
       " (2*a__w*b__xw*s + 2*a__w*b__xy*b__yw + 2*a__w*b__xz*b__zw - a__x*b__xw**2 - a__x*b__xy**2 - a__x*b__xz**2 + a__x*b__yw**2 + a__x*b__yz**2 + a__x*b__zw**2 + a__x*s**2 - 2*a__y*b__xw*b__yw + 2*a__y*b__xy*s - 2*a__y*b__xz*b__yz - 2*a__z*b__xw*b__zw + 2*a__z*b__xy*b__yz + 2*a__z*b__xz*s)*e_x\n",
       " + (-2*a__w*b__xw*b__xy + 2*a__w*b__yw*s + 2*a__w*b__yz*b__zw - 2*a__x*b__xw*b__yw - 2*a__x*b__xy*s - 2*a__x*b__xz*b__yz + a__y*b__xw**2 - a__y*b__xy**2 + a__y*b__xz**2 - a__y*b__yw**2 - a__y*b__yz**2 + a__y*b__zw**2 + a__y*s**2 - 2*a__z*b__xy*b__xz - 2*a__z*b__yw*b__zw + 2*a__z*b__yz*s)*e_y\n",
       " + (-2*a__w*b__xw*b__xz - 2*a__w*b__yw*b__yz + 2*a__w*b__zw*s - 2*a__x*b__xw*b__zw + 2*a__x*b__xy*b__yz - 2*a__x*b__xz*s - 2*a__y*b__xy*b__xz - 2*a__y*b__yw*b__zw - 2*a__y*b__yz*s + a__z*b__xw**2 + a__z*b__xy**2 - a__z*b__xz**2 + a__z*b__yw**2 - a__z*b__yz**2 - a__z*b__zw**2 + a__z*s**2)*e_z\n",
       " + (-a__w*b__xw**2 + a__w*b__xy**2 + a__w*b__xz**2 - a__w*b__yw**2 + a__w*b__yz**2 - a__w*b__zw**2 + a__w*s**2 - 2*a__x*b__xw*s + 2*a__x*b__xy*b__yw + 2*a__x*b__xz*b__zw - 2*a__y*b__xw*b__xy - 2*a__y*b__yw*s + 2*a__y*b__yz*b__zw - 2*a__z*b__xw*b__xz - 2*a__z*b__yw*b__yz - 2*a__z*b__zw*s)*e_w"
      ]
     },
     "execution_count": 25,
     "metadata": {},
     "output_type": "execute_result"
    }
   ],
   "source": [
    "Format(Fmode = False, Dmode = True)\n",
    "s4coords = (x,y,z,w) = symbols('x y z w', real=True)\n",
    "s4 = Ga('e',\n",
    "g=[1,1,1,1],\n",
    "coords=s4coords)\n",
    "a = s4.mv('a','vector')\n",
    "b = s4.mv('b','bivector')\n",
    "s = s4.mv('s', 'scalar')\n",
    "rotor = s + b\n",
    "(rotor * a * rotor.rev()).Fmt(3)"
   ]
  },
  {
   "cell_type": "code",
   "execution_count": 43,
   "metadata": {},
   "outputs": [
    {
     "data": {
      "text/latex": [
       "\\begin{equation*}  \\begin{aligned}[t]  & \\left ( - a^{xw}_{b} b^{xw}_{b} - a^{xy}_{b} b^{xy}_{b} - a^{xz}_{b} b^{xz}_{b} - a^{yw}_{b} b^{yw}_{b} - a^{yz}_{b} b^{yz}_{b} - a^{zw}_{b} b^{zw}_{b} + a^{xyzw}_{p} b^{xyzw}_{p} + a_{s} b_{s}\\right )  \\\\  &  + \\left ( - a^{xw}_{b} b^{yw}_{b} + a^{xy}_{b} b_{s} - a^{xz}_{b} b^{yz}_{b} + a^{yw}_{b} b^{xw}_{b} + a^{yz}_{b} b^{xz}_{b} - a^{zw}_{b} b^{xyzw}_{p} - a^{xyzw}_{p} b^{zw}_{b} + a_{s} b^{xy}_{b}\\right ) \\boldsymbol{e}_{x}\\wedge \\boldsymbol{e}_{y} \\\\  &  + \\left ( - a^{xw}_{b} b^{zw}_{b} + a^{xy}_{b} b^{yz}_{b} + a^{xz}_{b} b_{s} + a^{yw}_{b} b^{xyzw}_{p} - a^{yz}_{b} b^{xy}_{b} + a^{zw}_{b} b^{xw}_{b} + a^{xyzw}_{p} b^{yw}_{b} + a_{s} b^{xz}_{b}\\right ) \\boldsymbol{e}_{x}\\wedge \\boldsymbol{e}_{z} \\\\  &  + \\left ( a^{xw}_{b} b_{s} + a^{xy}_{b} b^{yw}_{b} + a^{xz}_{b} b^{zw}_{b} - a^{yw}_{b} b^{xy}_{b} - a^{yz}_{b} b^{xyzw}_{p} - a^{zw}_{b} b^{xz}_{b} - a^{xyzw}_{p} b^{yz}_{b} + a_{s} b^{xw}_{b}\\right ) \\boldsymbol{e}_{x}\\wedge \\boldsymbol{e}_{w} \\\\  &  + \\left ( - a^{xw}_{b} b^{xyzw}_{p} - a^{xy}_{b} b^{xz}_{b} + a^{xz}_{b} b^{xy}_{b} - a^{yw}_{b} b^{zw}_{b} + a^{yz}_{b} b_{s} + a^{zw}_{b} b^{yw}_{b} - a^{xyzw}_{p} b^{xw}_{b} + a_{s} b^{yz}_{b}\\right ) \\boldsymbol{e}_{y}\\wedge \\boldsymbol{e}_{z} \\\\  &  + \\left ( a^{xw}_{b} b^{xy}_{b} - a^{xy}_{b} b^{xw}_{b} + a^{xz}_{b} b^{xyzw}_{p} + a^{yw}_{b} b_{s} + a^{yz}_{b} b^{zw}_{b} - a^{zw}_{b} b^{yz}_{b} + a^{xyzw}_{p} b^{xz}_{b} + a_{s} b^{yw}_{b}\\right ) \\boldsymbol{e}_{y}\\wedge \\boldsymbol{e}_{w} \\\\  &  + \\left ( a^{xw}_{b} b^{xz}_{b} - a^{xy}_{b} b^{xyzw}_{p} - a^{xz}_{b} b^{xw}_{b} + a^{yw}_{b} b^{yz}_{b} - a^{yz}_{b} b^{yw}_{b} + a^{zw}_{b} b_{s} - a^{xyzw}_{p} b^{xy}_{b} + a_{s} b^{zw}_{b}\\right ) \\boldsymbol{e}_{z}\\wedge \\boldsymbol{e}_{w} \\\\  &  + \\left ( a^{xw}_{b} b^{yz}_{b} + a^{xy}_{b} b^{zw}_{b} - a^{xz}_{b} b^{yw}_{b} - a^{yw}_{b} b^{xz}_{b} + a^{yz}_{b} b^{xw}_{b} + a^{zw}_{b} b^{xy}_{b} + a^{xyzw}_{p} b_{s} + a_{s} b^{xyzw}_{p}\\right ) \\boldsymbol{e}_{x}\\wedge \\boldsymbol{e}_{y}\\wedge \\boldsymbol{e}_{z}\\wedge \\boldsymbol{e}_{w}  \\end{aligned}  \\end{equation*}"
      ],
      "text/plain": [
       " -a_b__xw*b_b__xw - a_b__xy*b_b__xy - a_b__xz*b_b__xz - a_b__yw*b_b__yw - a_b__yz*b_b__yz - a_b__zw*b_b__zw + a_p__xyzw*b_p__xyzw + a_s*b_s\n",
       " + (-a_b__xw*b_b__yw + a_b__xy*b_s - a_b__xz*b_b__yz + a_b__yw*b_b__xw + a_b__yz*b_b__xz - a_b__zw*b_p__xyzw - a_p__xyzw*b_b__zw + a_s*b_b__xy)*e_x^e_y\n",
       " + (-a_b__xw*b_b__zw + a_b__xy*b_b__yz + a_b__xz*b_s + a_b__yw*b_p__xyzw - a_b__yz*b_b__xy + a_b__zw*b_b__xw + a_p__xyzw*b_b__yw + a_s*b_b__xz)*e_x^e_z\n",
       " + (a_b__xw*b_s + a_b__xy*b_b__yw + a_b__xz*b_b__zw - a_b__yw*b_b__xy - a_b__yz*b_p__xyzw - a_b__zw*b_b__xz - a_p__xyzw*b_b__yz + a_s*b_b__xw)*e_x^e_w\n",
       " + (-a_b__xw*b_p__xyzw - a_b__xy*b_b__xz + a_b__xz*b_b__xy - a_b__yw*b_b__zw + a_b__yz*b_s + a_b__zw*b_b__yw - a_p__xyzw*b_b__xw + a_s*b_b__yz)*e_y^e_z\n",
       " + (a_b__xw*b_b__xy - a_b__xy*b_b__xw + a_b__xz*b_p__xyzw + a_b__yw*b_s + a_b__yz*b_b__zw - a_b__zw*b_b__yz + a_p__xyzw*b_b__xz + a_s*b_b__yw)*e_y^e_w\n",
       " + (a_b__xw*b_b__xz - a_b__xy*b_p__xyzw - a_b__xz*b_b__xw + a_b__yw*b_b__yz - a_b__yz*b_b__yw + a_b__zw*b_s - a_p__xyzw*b_b__xy + a_s*b_b__zw)*e_z^e_w\n",
       " + (a_b__xw*b_b__yz + a_b__xy*b_b__zw - a_b__xz*b_b__yw - a_b__yw*b_b__xz + a_b__yz*b_b__xw + a_b__zw*b_b__xy + a_p__xyzw*b_s + a_s*b_p__xyzw)*e_x^e_y^e_z^e_w"
      ]
     },
     "execution_count": 43,
     "metadata": {},
     "output_type": "execute_result"
    }
   ],
   "source": [
    "Format(Fmode = False, Dmode = True)\n",
    "s4coords = (x,y,z,w) = symbols('x y z w', real=True)\n",
    "s4 = Ga('e',\n",
    "g=[1,1,1,1],\n",
    "coords=s4coords)\n",
    "a_b = s4.mv('a_b','bivector')\n",
    "a_s = s4.mv('a_s', 'scalar')\n",
    "a_p = s4.mv('a_p', 'pseudo')\n",
    "rotor_a = a_b + a_s + a_p\n",
    "\n",
    "b_b = s4.mv('b_b','bivector')\n",
    "b_s = s4.mv('b_s', 'scalar')\n",
    "b_p = s4.mv('b_p', 'pseudo')\n",
    "rotor_b = b_b + b_s + b_p\n",
    "(rotor_a * rotor_b).Fmt(3)"
   ]
  },
  {
   "cell_type": "code",
   "execution_count": null,
   "metadata": {},
   "outputs": [],
   "source": []
  }
 ],
 "metadata": {
  "interpreter": {
   "hash": "916dbcbb3f70747c44a77c7bcd40155683ae19c65e1c03b4aa3499c5328201f1"
  },
  "kernelspec": {
   "display_name": "Python 3.8.10 64-bit",
   "language": "python",
   "name": "python3"
  },
  "language_info": {
   "codemirror_mode": {
    "name": "ipython",
    "version": 3
   },
   "file_extension": ".py",
   "mimetype": "text/x-python",
   "name": "python",
   "nbconvert_exporter": "python",
   "pygments_lexer": "ipython3",
   "version": "3.8.10"
  },
  "orig_nbformat": 4
 },
 "nbformat": 4,
 "nbformat_minor": 2
}
